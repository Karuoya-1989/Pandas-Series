{
 "cells": [
  {
   "cell_type": "markdown",
   "metadata": {},
   "source": [
    "# Introduction to Pandas Series and DataFrames"
   ]
  },
  {
   "cell_type": "markdown",
   "metadata": {},
   "source": [
    "## Objectives"
   ]
  },
  {
   "cell_type": "markdown",
   "metadata": {},
   "source": [
    "* Understand Pandas Series and DataFrames\n",
    "* Creating Series and DataFrames\n",
    "* Basic Operations with Series \n",
    "* Exploring DataFrame Basics\n",
    "* Selecting Data from DataFrames\n",
    "* Applying Functions to Series and DataFrames"
   ]
  },
  {
   "cell_type": "markdown",
   "metadata": {},
   "source": [
    "## Loading Libraries"
   ]
  },
  {
   "cell_type": "code",
   "execution_count": 2,
   "metadata": {},
   "outputs": [],
   "source": [
    "# numpys - for arithmetic operations and high-level mathematical functions to operate on arrays\n",
    "import numpy as np\n",
    "# pandas - for working with relational or labeled data\n",
    "import pandas as pd\n",
    "data = [10, 20, 30, 40, 50]\n",
    "labels = ['A', 'B', 'C', 'D', 'E']\n",
    "\n",
    "# Create a Series with data and custom labels\n",
    "series = pd.Series(data, index=labels)\n"
   ]
  },
  {
   "cell_type": "markdown",
   "metadata": {},
   "source": [
    "## What is a Pandas Series?"
   ]
  },
  {
   "cell_type": "markdown",
   "metadata": {},
   "source": [
    "* **One-Dimensional** labeled Array capable of holding data on any type such as *intergers*, *string*, *float*, *python objects* etc.\n",
    "* A pandas series is like a column in a table.\n"
   ]
  },
  {
   "cell_type": "markdown",
   "metadata": {},
   "source": [
    "### Key features of a Pandas Series"
   ]
  },
  {
   "cell_type": "markdown",
   "metadata": {},
   "source": [
    "* **Homogeneous Data**: A Series Holds Data of a single data type(integer, float, string etc), ensuring homogeneity within the Series.\n",
    "* **Labeled Index**: Each element in a Series is associated with a label called an *index*. Having unique labels is a common practice, though not strictly required. The labels just need to be hashable types, ie they need to be used as keys in a dictionary. This index allows for easy and efficient data retrieval and manipulation.\n",
    "* **Vectorized Operations**: - Series support vectorized operations, ie you can apply operations to the entire series without the need for explicit loops.\n",
    "* **Alignment of Data**: - When performing operations on a Series, Pandas automatically aligns data based on index labels, which simplifies data manipulation.\n",
    "* **Creation**: - Can be created from a List, NumpyArrays, Dictionary, DataFrame slice and other data sources. "
   ]
  },
  {
   "cell_type": "code",
   "execution_count": 3,
   "metadata": {},
   "outputs": [
    {
     "data": {
      "text/plain": [
       "0     23\n",
       "1     19\n",
       "2     45\n",
       "3     67\n",
       "4     98\n",
       "5    100\n",
       "6     32\n",
       "7     76\n",
       "dtype: int64"
      ]
     },
     "execution_count": 3,
     "metadata": {},
     "output_type": "execute_result"
    }
   ],
   "source": [
    "# example of a series from a list \n",
    "marks = [23, 19, 45, 67, 98, 100, 32, 76 ]\n",
    "\n",
    "\n",
    "#series\n",
    "marks_series = pd.Series(marks)\n",
    "marks_series"
   ]
  },
  {
   "cell_type": "markdown",
   "metadata": {},
   "source": [
    "## Creating and Displaying"
   ]
  },
  {
   "cell_type": "code",
   "execution_count": 4,
   "metadata": {},
   "outputs": [
    {
     "data": {
      "text/plain": [
       "0    3.090\n",
       "1    3.700\n",
       "2    2.400\n",
       "3    1.234\n",
       "4    8.900\n",
       "5    3.400\n",
       "6    5.000\n",
       "Name: Composite Scores, dtype: float64"
      ]
     },
     "execution_count": 4,
     "metadata": {},
     "output_type": "execute_result"
    }
   ],
   "source": [
    "#example 1 Creating a series from a list\n",
    "data = [3.09, 3.7, 2.4, 1.234, 8.9, 3.4, 5]\n",
    "\n",
    "list_series = pd.Series(data, name=\"Composite Scores\")\n",
    "list_series"
   ]
  },
  {
   "cell_type": "code",
   "execution_count": 5,
   "metadata": {},
   "outputs": [
    {
     "data": {
      "text/plain": [
       "pandas.core.series.Series"
      ]
     },
     "execution_count": 5,
     "metadata": {},
     "output_type": "execute_result"
    }
   ],
   "source": [
    "type(list_series)"
   ]
  },
  {
   "cell_type": "code",
   "execution_count": 6,
   "metadata": {},
   "outputs": [
    {
     "data": {
      "text/plain": [
       "numpy.ndarray"
      ]
     },
     "execution_count": 6,
     "metadata": {},
     "output_type": "execute_result"
    }
   ],
   "source": [
    "# Creaming a series from numPy Array\n",
    "data_arr = np.array(data) #crated an array from list\n",
    "\n",
    "type(data_arr)"
   ]
  },
  {
   "cell_type": "code",
   "execution_count": 7,
   "metadata": {},
   "outputs": [
    {
     "data": {
      "text/plain": [
       "0    3.090\n",
       "1    3.700\n",
       "2    2.400\n",
       "3    1.234\n",
       "4    8.900\n",
       "5    3.400\n",
       "6    5.000\n",
       "Name: Array, dtype: float64"
      ]
     },
     "execution_count": 7,
     "metadata": {},
     "output_type": "execute_result"
    }
   ],
   "source": [
    "#series from array\n",
    "arr_series = pd.Series(data_arr, name=\"Array\")\n",
    "\n",
    "arr_series\n",
    "\n"
   ]
  },
  {
   "cell_type": "code",
   "execution_count": 8,
   "metadata": {},
   "outputs": [
    {
     "data": {
      "text/plain": [
       "dict"
      ]
     },
     "execution_count": 8,
     "metadata": {},
     "output_type": "execute_result"
    }
   ],
   "source": [
    "# series from dictonary\n",
    "data_dict={\n",
    "    \"Nakuru\" : 3.09,\n",
    "    \"Kisumu\" : 3.7,\n",
    "    \"Nyeri\" : 2.4,\n",
    "    \"Mombasa\" : 1.234,\n",
    "    \"Eldoret\" : 8.9,\n",
    "    \"Meru\" : 3.4,\n",
    "    \"Nairobi\" : 5\n",
    "\n",
    "}\n",
    "\n",
    "type(data_dict)"
   ]
  },
  {
   "cell_type": "code",
   "execution_count": 9,
   "metadata": {},
   "outputs": [
    {
     "data": {
      "text/plain": [
       "Nakuru     3.090\n",
       "Kisumu     3.700\n",
       "Nyeri      2.400\n",
       "Mombasa    1.234\n",
       "Eldoret    8.900\n",
       "Meru       3.400\n",
       "Nairobi    5.000\n",
       "Name: COA Sores, dtype: float64"
      ]
     },
     "execution_count": 9,
     "metadata": {},
     "output_type": "execute_result"
    }
   ],
   "source": [
    "dict_series= pd.Series(data_dict, name= \"COA Sores\")\n",
    "dict_series"
   ]
  },
  {
   "cell_type": "code",
   "execution_count": 10,
   "metadata": {},
   "outputs": [
    {
     "data": {
      "text/plain": [
       "1    100\n",
       "2     65\n",
       "3     78\n",
       "4     34\n",
       "5     90\n",
       "6     86\n",
       "7     20\n",
       "Name: COA Marks, dtype: int64"
      ]
     },
     "execution_count": 10,
     "metadata": {},
     "output_type": "execute_result"
    }
   ],
   "source": [
    "\n",
    "Percent_score = [100, 65, 78, 34, 90, 86, 20]\n",
    "custom_labels = [1, 2, 3, 4, 5, 6, 7]\n",
    "\n",
    "# Create a pandas Series with custom labels and a specified name\n",
    "custom_labels = pd.Series(data=Percent_score, index=custom_labels, name=\"COA Marks\")\n",
    "\n",
    "# Display the resulting Series\n",
    "custom_labels\n"
   ]
  },
  {
   "cell_type": "code",
   "execution_count": 11,
   "metadata": {},
   "outputs": [
    {
     "data": {
      "text/plain": [
       "Nakuru     100\n",
       "Kisumu      65\n",
       "Nyeri       78\n",
       "Mombasa     34\n",
       "Eldoret     90\n",
       "Meru        86\n",
       "Nairobi     20\n",
       "Name: COA Marks, dtype: int64"
      ]
     },
     "execution_count": 11,
     "metadata": {},
     "output_type": "execute_result"
    }
   ],
   "source": [
    "Percent_score = [100, 65, 78, 34, 90, 86, 20]\n",
    "custom_labels = (data_dict)\n",
    "\n",
    "# Create a pandas Series with custom labels and a specified name\n",
    "custom_labels = pd.Series(data=Percent_score, index=custom_labels, name=\"COA Marks\")\n",
    "\n",
    "# Display the resulting Series\n",
    "custom_labels\n"
   ]
  },
  {
   "cell_type": "markdown",
   "metadata": {},
   "source": [
    "## Basic Operations With Series"
   ]
  },
  {
   "cell_type": "code",
   "execution_count": 12,
   "metadata": {},
   "outputs": [
    {
     "data": {
      "text/plain": [
       "0    3.090\n",
       "1    3.700\n",
       "2    2.400\n",
       "3    1.234\n",
       "4    8.900\n",
       "5    3.400\n",
       "6    5.000\n",
       "Name: Array, dtype: float64"
      ]
     },
     "execution_count": 12,
     "metadata": {},
     "output_type": "execute_result"
    }
   ],
   "source": [
    "arr_series"
   ]
  },
  {
   "cell_type": "code",
   "execution_count": 13,
   "metadata": {},
   "outputs": [
    {
     "name": "stdout",
     "output_type": "stream",
     "text": [
      "8.9\n"
     ]
    }
   ],
   "source": [
    "print(arr_series[4])"
   ]
  },
  {
   "cell_type": "code",
   "execution_count": 14,
   "metadata": {},
   "outputs": [
    {
     "name": "stdout",
     "output_type": "stream",
     "text": [
      "90\n"
     ]
    }
   ],
   "source": [
    "# Example 1  Access elements in a s series\n",
    "\n",
    "elements = custom_labels[4]\n",
    "print(elements)"
   ]
  },
  {
   "cell_type": "code",
   "execution_count": 15,
   "metadata": {},
   "outputs": [
    {
     "data": {
      "text/plain": [
       "Nakuru     3.090\n",
       "Kisumu     3.700\n",
       "Nyeri      2.400\n",
       "Mombasa    1.234\n",
       "Eldoret    8.900\n",
       "Meru       3.400\n",
       "Nairobi    5.000\n",
       "Name: COA Sores, dtype: float64"
      ]
     },
     "execution_count": 15,
     "metadata": {},
     "output_type": "execute_result"
    }
   ],
   "source": [
    "dict_series"
   ]
  },
  {
   "cell_type": "code",
   "execution_count": 16,
   "metadata": {},
   "outputs": [
    {
     "name": "stdout",
     "output_type": "stream",
     "text": [
      "3.7\n"
     ]
    }
   ],
   "source": [
    "print(dict_series[\"Kisumu\"])"
   ]
  },
  {
   "cell_type": "code",
   "execution_count": 17,
   "metadata": {},
   "outputs": [
    {
     "data": {
      "text/plain": [
       "Nakuru     100\n",
       "Kisumu      65\n",
       "Nyeri       78\n",
       "Mombasa     34\n",
       "Eldoret     90\n",
       "Meru        86\n",
       "Nairobi     20\n",
       "Name: COA Marks, dtype: int64"
      ]
     },
     "execution_count": 17,
     "metadata": {},
     "output_type": "execute_result"
    }
   ],
   "source": [
    "custom_labels"
   ]
  },
  {
   "cell_type": "code",
   "execution_count": 18,
   "metadata": {},
   "outputs": [
    {
     "name": "stdout",
     "output_type": "stream",
     "text": [
      "Nakuru     100\n",
      "Kisumu      65\n",
      "Nyeri       78\n",
      "Mombasa     34\n",
      "Eldoret     90\n",
      "Name: COA Marks, dtype: int64\n"
     ]
    }
   ],
   "source": [
    "print(custom_labels['Nakuru':'Eldoret'])"
   ]
  },
  {
   "cell_type": "code",
   "execution_count": 19,
   "metadata": {},
   "outputs": [
    {
     "data": {
      "text/plain": [
       "Nakuru     1.00\n",
       "Kisumu     0.65\n",
       "Nyeri      0.78\n",
       "Mombasa    0.34\n",
       "Eldoret    0.90\n",
       "Meru       0.86\n",
       "Nairobi    0.20\n",
       "Name: COA Marks, dtype: float64"
      ]
     },
     "execution_count": 19,
     "metadata": {},
     "output_type": "execute_result"
    }
   ],
   "source": [
    "#arithematic operations\n",
    "# convert in percentage\n",
    "x = custom_labels / 100\n",
    "x\n"
   ]
  },
  {
   "cell_type": "code",
   "execution_count": 20,
   "metadata": {},
   "outputs": [
    {
     "data": {
      "text/plain": [
       "Nakuru     100.0\n",
       "Kisumu      65.0\n",
       "Nyeri       78.0\n",
       "Mombasa     34.0\n",
       "Eldoret     90.0\n",
       "Meru        86.0\n",
       "Nairobi     20.0\n",
       "Name: COA Marks, dtype: float64"
      ]
     },
     "execution_count": 20,
     "metadata": {},
     "output_type": "execute_result"
    }
   ],
   "source": [
    "x = x * 100\n",
    "x"
   ]
  },
  {
   "cell_type": "code",
   "execution_count": 21,
   "metadata": {},
   "outputs": [
    {
     "data": {
      "text/plain": [
       "Nakuru     100.0\n",
       "Nyeri       78.0\n",
       "Eldoret     90.0\n",
       "Meru        86.0\n",
       "Name: COA Marks, dtype: float64"
      ]
     },
     "execution_count": 21,
     "metadata": {},
     "output_type": "execute_result"
    }
   ],
   "source": [
    "#filter the elements\n",
    "x_filtered = x[x >= 78]\n",
    "x_filtered\n"
   ]
  },
  {
   "cell_type": "code",
   "execution_count": 22,
   "metadata": {},
   "outputs": [
    {
     "data": {
      "text/plain": [
       "Nakuru     100\n",
       "Kisumu      65\n",
       "Nyeri       78\n",
       "Mombasa     34\n",
       "Eldoret     90\n",
       "Meru        86\n",
       "Nairobi     20\n",
       "Name: COA Marks, dtype: int64"
      ]
     },
     "execution_count": 22,
     "metadata": {},
     "output_type": "execute_result"
    }
   ],
   "source": [
    "# summary statistics\n",
    "custom_labels"
   ]
  },
  {
   "cell_type": "code",
   "execution_count": 23,
   "metadata": {},
   "outputs": [
    {
     "name": "stdout",
     "output_type": "stream",
     "text": [
      "67.57142857142857\n"
     ]
    }
   ],
   "source": [
    "mean = x.mean()\n",
    "print(mean)"
   ]
  },
  {
   "cell_type": "code",
   "execution_count": null,
   "metadata": {},
   "outputs": [],
   "source": []
  },
  {
   "cell_type": "code",
   "execution_count": 24,
   "metadata": {},
   "outputs": [
    {
     "name": "stdout",
     "output_type": "stream",
     "text": [
      "29.999206338708046\n"
     ]
    }
   ],
   "source": [
    "std = x.std()\n",
    "print(std)"
   ]
  },
  {
   "cell_type": "code",
   "execution_count": 25,
   "metadata": {},
   "outputs": [
    {
     "name": "stdout",
     "output_type": "stream",
     "text": [
      "100.0\n"
     ]
    }
   ],
   "source": [
    "max = x.max()\n",
    "print(max)"
   ]
  },
  {
   "cell_type": "markdown",
   "metadata": {},
   "source": [
    "## Applying Functions to a Series "
   ]
  },
  {
   "cell_type": "markdown",
   "metadata": {},
   "source": [
    "### Lambda Functions"
   ]
  },
  {
   "cell_type": "markdown",
   "metadata": {},
   "source": [
    "* Small anonymous function that is not bound to an identifier.\n",
    "* Similar to user defined functions but without a name.\n",
    "* It's simple and straightfoward, requiring only the argument(s) and expression, alongside the keyword `lambda`.\n",
    "* They require only one line of code.\n",
    "\n",
    "```\n",
    "def func_name(parameters):\n",
    "    code block\n",
    "    \n",
    "    return return_value\n",
    "```\n",
    "\n",
    "`func = lamda parameters: return_value`\n",
    "\n",
    "* `lambda` : Keyword that indicates definition of a lambda function.\n",
    "* `parameters`: The input parameters that the lambda function will take.\n",
    "* `return_value`: A single expression that defines the compuation the lambda function performs and its return value "
   ]
  },
  {
   "cell_type": "code",
   "execution_count": 26,
   "metadata": {},
   "outputs": [
    {
     "data": {
      "text/plain": [
       "49"
      ]
     },
     "execution_count": 26,
     "metadata": {},
     "output_type": "execute_result"
    }
   ],
   "source": [
    "# Compare the two\n",
    "def square(x):\n",
    "\n",
    "    out = x ** 2\n",
    "\n",
    "    return out\n",
    "square(7)"
   ]
  },
  {
   "cell_type": "code",
   "execution_count": 27,
   "metadata": {},
   "outputs": [
    {
     "data": {
      "text/plain": [
       "64"
      ]
     },
     "execution_count": 27,
     "metadata": {},
     "output_type": "execute_result"
    }
   ],
   "source": [
    "# labda function\n",
    "square_lambda = lambda x: x ** 2\n",
    "\n",
    "square_lambda(8)"
   ]
  },
  {
   "cell_type": "code",
   "execution_count": 28,
   "metadata": {},
   "outputs": [
    {
     "data": {
      "text/plain": [
       "'hello Universe'"
      ]
     },
     "execution_count": 28,
     "metadata": {},
     "output_type": "execute_result"
    }
   ],
   "source": [
    "# lambda function to print Hello world\n",
    "def print_hello():\n",
    "    y = 'hello Universe'\n",
    "\n",
    "    return y\n",
    "\n",
    "print_hello()"
   ]
  },
  {
   "cell_type": "code",
   "execution_count": 29,
   "metadata": {},
   "outputs": [
    {
     "data": {
      "text/plain": [
       "'hello Universe'"
      ]
     },
     "execution_count": 29,
     "metadata": {},
     "output_type": "execute_result"
    }
   ],
   "source": [
    "letter = lambda: \"hello Universe\"\n",
    "\n",
    "letter()\n",
    "\n"
   ]
  },
  {
   "cell_type": "code",
   "execution_count": 30,
   "metadata": {},
   "outputs": [
    {
     "data": {
      "text/plain": [
       "'Join the clan'"
      ]
     },
     "execution_count": 30,
     "metadata": {},
     "output_type": "execute_result"
    }
   ],
   "source": [
    "Opening_statement = lambda: \"Join the clan\"\n",
    "\n",
    "Opening_statement()"
   ]
  },
  {
   "cell_type": "code",
   "execution_count": 31,
   "metadata": {},
   "outputs": [
    {
     "data": {
      "text/plain": [
       "'Odd'"
      ]
     },
     "execution_count": 31,
     "metadata": {},
     "output_type": "execute_result"
    }
   ],
   "source": [
    "def even_odd(number: int):\n",
    "    \"\"\" check if a number is even or odd \"\"\"\n",
    "    if   (number% 2 == 0):\n",
    "        return 'Even'\n",
    "    else:\n",
    "        return 'Odd'\n",
    "    \n",
    "even_odd(75)"
   ]
  },
  {
   "cell_type": "code",
   "execution_count": 32,
   "metadata": {},
   "outputs": [
    {
     "data": {
      "text/plain": [
       "'Even'"
      ]
     },
     "execution_count": 32,
     "metadata": {},
     "output_type": "execute_result"
    }
   ],
   "source": [
    "even_lambda = lambda number: \"Even\" if (number %2 ==0) else \"Odd\" \n",
    "\n",
    "even_lambda(76)"
   ]
  },
  {
   "cell_type": "code",
   "execution_count": 33,
   "metadata": {},
   "outputs": [
    {
     "data": {
      "text/plain": [
       "'Odd'"
      ]
     },
     "execution_count": 33,
     "metadata": {},
     "output_type": "execute_result"
    }
   ],
   "source": [
    "even_lambda = lambda number: \"Even\" if (number %2 ==0) else \"Odd\" \n",
    "\n",
    "even_lambda(79)"
   ]
  },
  {
   "cell_type": "markdown",
   "metadata": {},
   "source": [
    "### Generate Random Numbers"
   ]
  },
  {
   "cell_type": "markdown",
   "metadata": {},
   "source": [
    "Using NumPy library to generate random Numbers."
   ]
  },
  {
   "cell_type": "code",
   "execution_count": 34,
   "metadata": {},
   "outputs": [],
   "source": [
    "import numpy as np"
   ]
  },
  {
   "cell_type": "code",
   "execution_count": 35,
   "metadata": {},
   "outputs": [],
   "source": [
    "random_numbers = np.random.randint(1, 100, size=35)"
   ]
  },
  {
   "cell_type": "code",
   "execution_count": 36,
   "metadata": {},
   "outputs": [
    {
     "data": {
      "text/plain": [
       "array([41, 95, 19, 97, 52, 16, 85, 76, 56, 59, 18, 71, 93,  8, 83, 13, 51,\n",
       "       76, 81, 19, 32, 82, 36, 54, 75, 50, 31, 11, 56, 81, 12, 10, 51, 38,\n",
       "       27])"
      ]
     },
     "execution_count": 36,
     "metadata": {},
     "output_type": "execute_result"
    }
   ],
   "source": [
    "# how to display the generated numbers\n",
    "random_numbers"
   ]
  },
  {
   "cell_type": "code",
   "execution_count": 37,
   "metadata": {},
   "outputs": [],
   "source": [
    "import pandas as pd"
   ]
  },
  {
   "cell_type": "code",
   "execution_count": 38,
   "metadata": {},
   "outputs": [
    {
     "data": {
      "text/plain": [
       "0     41\n",
       "1     95\n",
       "2     19\n",
       "3     97\n",
       "4     52\n",
       "5     16\n",
       "6     85\n",
       "7     76\n",
       "8     56\n",
       "9     59\n",
       "10    18\n",
       "11    71\n",
       "12    93\n",
       "13     8\n",
       "14    83\n",
       "15    13\n",
       "16    51\n",
       "17    76\n",
       "18    81\n",
       "19    19\n",
       "20    32\n",
       "21    82\n",
       "22    36\n",
       "23    54\n",
       "24    75\n",
       "25    50\n",
       "26    31\n",
       "27    11\n",
       "28    56\n",
       "29    81\n",
       "30    12\n",
       "31    10\n",
       "32    51\n",
       "33    38\n",
       "34    27\n",
       "Name: Evaluation Team, dtype: int32"
      ]
     },
     "execution_count": 38,
     "metadata": {},
     "output_type": "execute_result"
    }
   ],
   "source": [
    "numbers = pd.Series(random_numbers, name= \"Evaluation Team\")\n",
    "\n",
    "numbers"
   ]
  },
  {
   "cell_type": "code",
   "execution_count": 39,
   "metadata": {},
   "outputs": [
    {
     "data": {
      "text/plain": [
       "0    41\n",
       "1    95\n",
       "2    19\n",
       "3    97\n",
       "4    52\n",
       "Name: Evaluation Team, dtype: int32"
      ]
     },
     "execution_count": 39,
     "metadata": {},
     "output_type": "execute_result"
    }
   ],
   "source": [
    "# display the first five rows of the series\n",
    "numbers.head()\n"
   ]
  },
  {
   "cell_type": "code",
   "execution_count": 40,
   "metadata": {},
   "outputs": [
    {
     "data": {
      "text/plain": [
       "0    41\n",
       "1    95\n",
       "2    19\n",
       "3    97\n",
       "4    52\n",
       "5    16\n",
       "6    85\n",
       "7    76\n",
       "8    56\n",
       "9    59\n",
       "Name: Evaluation Team, dtype: int32"
      ]
     },
     "execution_count": 40,
     "metadata": {},
     "output_type": "execute_result"
    }
   ],
   "source": [
    "# display the first 10 rows of the series\n",
    "numbers.head(10)"
   ]
  },
  {
   "cell_type": "code",
   "execution_count": 41,
   "metadata": {},
   "outputs": [
    {
     "data": {
      "text/plain": [
       "30    12\n",
       "31    10\n",
       "32    51\n",
       "33    38\n",
       "34    27\n",
       "Name: Evaluation Team, dtype: int32"
      ]
     },
     "execution_count": 41,
     "metadata": {},
     "output_type": "execute_result"
    }
   ],
   "source": [
    "# display last five rows\n",
    "numbers.tail()"
   ]
  },
  {
   "cell_type": "code",
   "execution_count": 42,
   "metadata": {},
   "outputs": [
    {
     "data": {
      "text/plain": [
       "28    56\n",
       "29    81\n",
       "30    12\n",
       "31    10\n",
       "32    51\n",
       "33    38\n",
       "34    27\n",
       "Name: Evaluation Team, dtype: int32"
      ]
     },
     "execution_count": 42,
     "metadata": {},
     "output_type": "execute_result"
    }
   ],
   "source": [
    "numbers.tail(7)"
   ]
  },
  {
   "cell_type": "markdown",
   "metadata": {},
   "source": [
    "### Using the `apply()` Function in a Series\n",
    "\n",
    "* It's a powerful way to transform and analyze the data within the series.\n",
    "* Above we have generate a series of random numbers, and created a function called `square` that takes in an int, squares it and return the value. Lets apply that function to the series."
   ]
  },
  {
   "cell_type": "code",
   "execution_count": 43,
   "metadata": {},
   "outputs": [
    {
     "data": {
      "text/plain": [
       "16"
      ]
     },
     "execution_count": 43,
     "metadata": {},
     "output_type": "execute_result"
    }
   ],
   "source": [
    "# square the series random numbers \n",
    "square(4)"
   ]
  },
  {
   "cell_type": "code",
   "execution_count": 44,
   "metadata": {},
   "outputs": [
    {
     "data": {
      "text/plain": [
       "0     1681\n",
       "1     9025\n",
       "2      361\n",
       "3     9409\n",
       "4     2704\n",
       "5      256\n",
       "6     7225\n",
       "7     5776\n",
       "8     3136\n",
       "9     3481\n",
       "10     324\n",
       "11    5041\n",
       "12    8649\n",
       "13      64\n",
       "14    6889\n",
       "15     169\n",
       "16    2601\n",
       "17    5776\n",
       "18    6561\n",
       "19     361\n",
       "20    1024\n",
       "21    6724\n",
       "22    1296\n",
       "23    2916\n",
       "24    5625\n",
       "25    2500\n",
       "26     961\n",
       "27     121\n",
       "28    3136\n",
       "29    6561\n",
       "30     144\n",
       "31     100\n",
       "32    2601\n",
       "33    1444\n",
       "34     729\n",
       "Name: Evaluation Team, dtype: int64"
      ]
     },
     "execution_count": 44,
     "metadata": {},
     "output_type": "execute_result"
    }
   ],
   "source": [
    "# square the series random number\n",
    "squared_numbers = numbers.apply(square)\n",
    "squared_numbers"
   ]
  },
  {
   "cell_type": "code",
   "execution_count": 45,
   "metadata": {},
   "outputs": [
    {
     "data": {
      "text/plain": [
       "0     1681\n",
       "1     9025\n",
       "2      361\n",
       "3     9409\n",
       "4     2704\n",
       "5      256\n",
       "6     7225\n",
       "7     5776\n",
       "8     3136\n",
       "9     3481\n",
       "10     324\n",
       "11    5041\n",
       "12    8649\n",
       "13      64\n",
       "14    6889\n",
       "15     169\n",
       "16    2601\n",
       "17    5776\n",
       "18    6561\n",
       "19     361\n",
       "20    1024\n",
       "21    6724\n",
       "22    1296\n",
       "23    2916\n",
       "24    5625\n",
       "25    2500\n",
       "26     961\n",
       "27     121\n",
       "28    3136\n",
       "29    6561\n",
       "30     144\n",
       "31     100\n",
       "32    2601\n",
       "33    1444\n",
       "34     729\n",
       "Name: Squared Numbers, dtype: int64"
      ]
     },
     "execution_count": 45,
     "metadata": {},
     "output_type": "execute_result"
    }
   ],
   "source": [
    "# use .rename to rename the series\n",
    "squared_numbers.rename(\"Squared Numbers\", inplace=True) # inplace = True makes the changes permanent accross the program\n",
    "\n"
   ]
  },
  {
   "cell_type": "code",
   "execution_count": 46,
   "metadata": {},
   "outputs": [
    {
     "data": {
      "text/plain": [
       "0    1681\n",
       "1    9025\n",
       "2     361\n",
       "3    9409\n",
       "Name: Squared Numbers, dtype: int64"
      ]
     },
     "execution_count": 46,
     "metadata": {},
     "output_type": "execute_result"
    }
   ],
   "source": [
    "squared_numbers.head(4)"
   ]
  },
  {
   "cell_type": "markdown",
   "metadata": {},
   "source": [
    "### `lambda` function with `apply()`"
   ]
  },
  {
   "cell_type": "code",
   "execution_count": 47,
   "metadata": {},
   "outputs": [
    {
     "data": {
      "text/plain": [
       "0     68921\n",
       "1    857375\n",
       "2      6859\n",
       "3    912673\n",
       "4    140608\n",
       "Name: Evaluation Team, dtype: int64"
      ]
     },
     "execution_count": 47,
     "metadata": {},
     "output_type": "execute_result"
    }
   ],
   "source": [
    "# Cube the numbers using lambda and apply\n",
    "cubed_numbers = numbers.apply(lambda k: k **3)\n",
    "cubed_numbers.head()"
   ]
  },
  {
   "cell_type": "code",
   "execution_count": 48,
   "metadata": {},
   "outputs": [
    {
     "data": {
      "text/plain": [
       "30      1728\n",
       "31      1000\n",
       "32    132651\n",
       "33     54872\n",
       "34     19683\n",
       "Name: Evaluation Team, dtype: int64"
      ]
     },
     "execution_count": 48,
     "metadata": {},
     "output_type": "execute_result"
    }
   ],
   "source": [
    "# Cube the numbers using lambda and apply\n",
    "cubed_numbers = numbers.apply(lambda k: k **3)\n",
    "cubed_numbers.tail()"
   ]
  },
  {
   "cell_type": "code",
   "execution_count": 49,
   "metadata": {},
   "outputs": [
    {
     "data": {
      "text/plain": [
       "0      68921\n",
       "1     857375\n",
       "2       6859\n",
       "3     912673\n",
       "4     140608\n",
       "5       4096\n",
       "6     614125\n",
       "7     438976\n",
       "8     175616\n",
       "9     205379\n",
       "10      5832\n",
       "11    357911\n",
       "12    804357\n",
       "13       512\n",
       "14    571787\n",
       "15      2197\n",
       "16    132651\n",
       "17    438976\n",
       "18    531441\n",
       "19      6859\n",
       "20     32768\n",
       "21    551368\n",
       "22     46656\n",
       "23    157464\n",
       "24    421875\n",
       "25    125000\n",
       "26     29791\n",
       "27      1331\n",
       "28    175616\n",
       "29    531441\n",
       "30      1728\n",
       "31      1000\n",
       "32    132651\n",
       "33     54872\n",
       "34     19683\n",
       "Name: Cubed Numbers, dtype: int64"
      ]
     },
     "execution_count": 49,
     "metadata": {},
     "output_type": "execute_result"
    }
   ],
   "source": [
    "# rename the series\n",
    "cubed_numbers.rename(\"Cubed Numbers\", inplace=True)"
   ]
  },
  {
   "cell_type": "code",
   "execution_count": 50,
   "metadata": {},
   "outputs": [
    {
     "data": {
      "text/plain": [
       "0     68921\n",
       "1    857375\n",
       "2      6859\n",
       "3    912673\n",
       "4    140608\n",
       "Name: Cubed Numbers, dtype: int64"
      ]
     },
     "execution_count": 50,
     "metadata": {},
     "output_type": "execute_result"
    }
   ],
   "source": [
    "cubed_numbers.head()"
   ]
  },
  {
   "cell_type": "markdown",
   "metadata": {},
   "source": [
    "### Using the `map()` Function in a series"
   ]
  },
  {
   "cell_type": "markdown",
   "metadata": {},
   "source": [
    "* Used to substitute each value in a Series with another value creating a convenient way to transform the values in a Series."
   ]
  },
  {
   "cell_type": "code",
   "execution_count": 51,
   "metadata": {},
   "outputs": [
    {
     "data": {
      "text/plain": [
       "'Nonaless'"
      ]
     },
     "execution_count": 51,
     "metadata": {},
     "output_type": "execute_result"
    }
   ],
   "source": [
    "def bmi_value(x):\n",
    "\n",
    "    if x >=1345:\n",
    "        return \"Nonaless\"\n",
    "    \n",
    "    else:\n",
    "         return \"Umenona\"\n",
    "    \n",
    "bmi_value(1345)"
   ]
  },
  {
   "cell_type": "code",
   "execution_count": 52,
   "metadata": {},
   "outputs": [
    {
     "data": {
      "text/plain": [
       "0    Umenona\n",
       "1    Umenona\n",
       "2    Umenona\n",
       "3    Umenona\n",
       "4    Umenona\n",
       "5    Umenona\n",
       "6    Umenona\n",
       "7    Umenona\n",
       "Name: BMI Series, dtype: object"
      ]
     },
     "execution_count": 52,
     "metadata": {},
     "output_type": "execute_result"
    }
   ],
   "source": [
    "# map our random numbers as Nona or Nonaless\n",
    "bmi_series = numbers.map(bmi_value)\n",
    "bmi_series.rename(\"BMI Series\", inplace=True)\n",
    "bmi_series.head(8)\n"
   ]
  },
  {
   "cell_type": "code",
   "execution_count": null,
   "metadata": {},
   "outputs": [],
   "source": []
  },
  {
   "cell_type": "markdown",
   "metadata": {},
   "source": [
    "### `lambda` function with `map()`"
   ]
  },
  {
   "cell_type": "code",
   "execution_count": 53,
   "metadata": {},
   "outputs": [
    {
     "data": {
      "text/plain": [
       "0     82\n",
       "1    190\n",
       "2     38\n",
       "3    194\n",
       "4    104\n",
       "Name: Doubled Numbers, dtype: int64"
      ]
     },
     "execution_count": 53,
     "metadata": {},
     "output_type": "execute_result"
    }
   ],
   "source": [
    "# use lamda function with map() to double each number\n",
    "double_number = numbers.map(lambda t: t* 2)\n",
    "double_number.rename(\"Doubled Numbers\", inplace=True)\n",
    "double_number.head(5)"
   ]
  },
  {
   "cell_type": "markdown",
   "metadata": {},
   "source": [
    "### `lamda` function with Conditional Statement"
   ]
  },
  {
   "cell_type": "code",
   "execution_count": 54,
   "metadata": {},
   "outputs": [
    {
     "data": {
      "text/plain": [
       "0     Odd\n",
       "1     Odd\n",
       "2     Odd\n",
       "3     Odd\n",
       "4    Even\n",
       "Name: Even Odd Series, dtype: object"
      ]
     },
     "execution_count": 54,
     "metadata": {},
     "output_type": "execute_result"
    }
   ],
   "source": [
    "# are the random numbers even or odd\n",
    "even_odd_series = numbers.apply(lambda k: 'Even' if (k % 2 == 0) else 'Odd')\n",
    "even_odd_series.rename(\"Even Odd Series\", inplace=True)\n",
    "even_odd_series.head()"
   ]
  },
  {
   "cell_type": "markdown",
   "metadata": {},
   "source": [
    "## Series to DataFrame "
   ]
  },
  {
   "cell_type": "markdown",
   "metadata": {},
   "source": [
    "* `if` a **Series** is a *table* with a single column, `elif` a **DataFrame** is a *table* with two or more columns."
   ]
  },
  {
   "cell_type": "code",
   "execution_count": 55,
   "metadata": {},
   "outputs": [],
   "source": [
    "import pandas as pd"
   ]
  },
  {
   "cell_type": "code",
   "execution_count": 56,
   "metadata": {},
   "outputs": [
    {
     "data": {
      "text/html": [
       "<div>\n",
       "<style scoped>\n",
       "    .dataframe tbody tr th:only-of-type {\n",
       "        vertical-align: middle;\n",
       "    }\n",
       "\n",
       "    .dataframe tbody tr th {\n",
       "        vertical-align: top;\n",
       "    }\n",
       "\n",
       "    .dataframe thead th {\n",
       "        text-align: right;\n",
       "    }\n",
       "</style>\n",
       "<table border=\"1\" class=\"dataframe\">\n",
       "  <thead>\n",
       "    <tr style=\"text-align: right;\">\n",
       "      <th></th>\n",
       "      <th>numbers.name</th>\n",
       "      <th>cubed_numbers.name</th>\n",
       "      <th>squared_numbers.name</th>\n",
       "      <th>bmi_series.name</th>\n",
       "      <th>even_odd_series</th>\n",
       "    </tr>\n",
       "  </thead>\n",
       "  <tbody>\n",
       "    <tr>\n",
       "      <th>0</th>\n",
       "      <td>41</td>\n",
       "      <td>68921</td>\n",
       "      <td>1681</td>\n",
       "      <td>Umenona</td>\n",
       "      <td>Odd</td>\n",
       "    </tr>\n",
       "    <tr>\n",
       "      <th>1</th>\n",
       "      <td>95</td>\n",
       "      <td>857375</td>\n",
       "      <td>9025</td>\n",
       "      <td>Umenona</td>\n",
       "      <td>Odd</td>\n",
       "    </tr>\n",
       "    <tr>\n",
       "      <th>2</th>\n",
       "      <td>19</td>\n",
       "      <td>6859</td>\n",
       "      <td>361</td>\n",
       "      <td>Umenona</td>\n",
       "      <td>Odd</td>\n",
       "    </tr>\n",
       "    <tr>\n",
       "      <th>3</th>\n",
       "      <td>97</td>\n",
       "      <td>912673</td>\n",
       "      <td>9409</td>\n",
       "      <td>Umenona</td>\n",
       "      <td>Odd</td>\n",
       "    </tr>\n",
       "    <tr>\n",
       "      <th>4</th>\n",
       "      <td>52</td>\n",
       "      <td>140608</td>\n",
       "      <td>2704</td>\n",
       "      <td>Umenona</td>\n",
       "      <td>Even</td>\n",
       "    </tr>\n",
       "    <tr>\n",
       "      <th>5</th>\n",
       "      <td>16</td>\n",
       "      <td>4096</td>\n",
       "      <td>256</td>\n",
       "      <td>Umenona</td>\n",
       "      <td>Even</td>\n",
       "    </tr>\n",
       "    <tr>\n",
       "      <th>6</th>\n",
       "      <td>85</td>\n",
       "      <td>614125</td>\n",
       "      <td>7225</td>\n",
       "      <td>Umenona</td>\n",
       "      <td>Odd</td>\n",
       "    </tr>\n",
       "    <tr>\n",
       "      <th>7</th>\n",
       "      <td>76</td>\n",
       "      <td>438976</td>\n",
       "      <td>5776</td>\n",
       "      <td>Umenona</td>\n",
       "      <td>Even</td>\n",
       "    </tr>\n",
       "    <tr>\n",
       "      <th>8</th>\n",
       "      <td>56</td>\n",
       "      <td>175616</td>\n",
       "      <td>3136</td>\n",
       "      <td>Umenona</td>\n",
       "      <td>Even</td>\n",
       "    </tr>\n",
       "    <tr>\n",
       "      <th>9</th>\n",
       "      <td>59</td>\n",
       "      <td>205379</td>\n",
       "      <td>3481</td>\n",
       "      <td>Umenona</td>\n",
       "      <td>Odd</td>\n",
       "    </tr>\n",
       "    <tr>\n",
       "      <th>10</th>\n",
       "      <td>18</td>\n",
       "      <td>5832</td>\n",
       "      <td>324</td>\n",
       "      <td>Umenona</td>\n",
       "      <td>Even</td>\n",
       "    </tr>\n",
       "    <tr>\n",
       "      <th>11</th>\n",
       "      <td>71</td>\n",
       "      <td>357911</td>\n",
       "      <td>5041</td>\n",
       "      <td>Umenona</td>\n",
       "      <td>Odd</td>\n",
       "    </tr>\n",
       "    <tr>\n",
       "      <th>12</th>\n",
       "      <td>93</td>\n",
       "      <td>804357</td>\n",
       "      <td>8649</td>\n",
       "      <td>Umenona</td>\n",
       "      <td>Odd</td>\n",
       "    </tr>\n",
       "    <tr>\n",
       "      <th>13</th>\n",
       "      <td>8</td>\n",
       "      <td>512</td>\n",
       "      <td>64</td>\n",
       "      <td>Umenona</td>\n",
       "      <td>Even</td>\n",
       "    </tr>\n",
       "    <tr>\n",
       "      <th>14</th>\n",
       "      <td>83</td>\n",
       "      <td>571787</td>\n",
       "      <td>6889</td>\n",
       "      <td>Umenona</td>\n",
       "      <td>Odd</td>\n",
       "    </tr>\n",
       "    <tr>\n",
       "      <th>15</th>\n",
       "      <td>13</td>\n",
       "      <td>2197</td>\n",
       "      <td>169</td>\n",
       "      <td>Umenona</td>\n",
       "      <td>Odd</td>\n",
       "    </tr>\n",
       "    <tr>\n",
       "      <th>16</th>\n",
       "      <td>51</td>\n",
       "      <td>132651</td>\n",
       "      <td>2601</td>\n",
       "      <td>Umenona</td>\n",
       "      <td>Odd</td>\n",
       "    </tr>\n",
       "    <tr>\n",
       "      <th>17</th>\n",
       "      <td>76</td>\n",
       "      <td>438976</td>\n",
       "      <td>5776</td>\n",
       "      <td>Umenona</td>\n",
       "      <td>Even</td>\n",
       "    </tr>\n",
       "    <tr>\n",
       "      <th>18</th>\n",
       "      <td>81</td>\n",
       "      <td>531441</td>\n",
       "      <td>6561</td>\n",
       "      <td>Umenona</td>\n",
       "      <td>Odd</td>\n",
       "    </tr>\n",
       "    <tr>\n",
       "      <th>19</th>\n",
       "      <td>19</td>\n",
       "      <td>6859</td>\n",
       "      <td>361</td>\n",
       "      <td>Umenona</td>\n",
       "      <td>Odd</td>\n",
       "    </tr>\n",
       "    <tr>\n",
       "      <th>20</th>\n",
       "      <td>32</td>\n",
       "      <td>32768</td>\n",
       "      <td>1024</td>\n",
       "      <td>Umenona</td>\n",
       "      <td>Even</td>\n",
       "    </tr>\n",
       "    <tr>\n",
       "      <th>21</th>\n",
       "      <td>82</td>\n",
       "      <td>551368</td>\n",
       "      <td>6724</td>\n",
       "      <td>Umenona</td>\n",
       "      <td>Even</td>\n",
       "    </tr>\n",
       "    <tr>\n",
       "      <th>22</th>\n",
       "      <td>36</td>\n",
       "      <td>46656</td>\n",
       "      <td>1296</td>\n",
       "      <td>Umenona</td>\n",
       "      <td>Even</td>\n",
       "    </tr>\n",
       "    <tr>\n",
       "      <th>23</th>\n",
       "      <td>54</td>\n",
       "      <td>157464</td>\n",
       "      <td>2916</td>\n",
       "      <td>Umenona</td>\n",
       "      <td>Even</td>\n",
       "    </tr>\n",
       "    <tr>\n",
       "      <th>24</th>\n",
       "      <td>75</td>\n",
       "      <td>421875</td>\n",
       "      <td>5625</td>\n",
       "      <td>Umenona</td>\n",
       "      <td>Odd</td>\n",
       "    </tr>\n",
       "    <tr>\n",
       "      <th>25</th>\n",
       "      <td>50</td>\n",
       "      <td>125000</td>\n",
       "      <td>2500</td>\n",
       "      <td>Umenona</td>\n",
       "      <td>Even</td>\n",
       "    </tr>\n",
       "    <tr>\n",
       "      <th>26</th>\n",
       "      <td>31</td>\n",
       "      <td>29791</td>\n",
       "      <td>961</td>\n",
       "      <td>Umenona</td>\n",
       "      <td>Odd</td>\n",
       "    </tr>\n",
       "    <tr>\n",
       "      <th>27</th>\n",
       "      <td>11</td>\n",
       "      <td>1331</td>\n",
       "      <td>121</td>\n",
       "      <td>Umenona</td>\n",
       "      <td>Odd</td>\n",
       "    </tr>\n",
       "    <tr>\n",
       "      <th>28</th>\n",
       "      <td>56</td>\n",
       "      <td>175616</td>\n",
       "      <td>3136</td>\n",
       "      <td>Umenona</td>\n",
       "      <td>Even</td>\n",
       "    </tr>\n",
       "    <tr>\n",
       "      <th>29</th>\n",
       "      <td>81</td>\n",
       "      <td>531441</td>\n",
       "      <td>6561</td>\n",
       "      <td>Umenona</td>\n",
       "      <td>Odd</td>\n",
       "    </tr>\n",
       "    <tr>\n",
       "      <th>30</th>\n",
       "      <td>12</td>\n",
       "      <td>1728</td>\n",
       "      <td>144</td>\n",
       "      <td>Umenona</td>\n",
       "      <td>Even</td>\n",
       "    </tr>\n",
       "    <tr>\n",
       "      <th>31</th>\n",
       "      <td>10</td>\n",
       "      <td>1000</td>\n",
       "      <td>100</td>\n",
       "      <td>Umenona</td>\n",
       "      <td>Even</td>\n",
       "    </tr>\n",
       "    <tr>\n",
       "      <th>32</th>\n",
       "      <td>51</td>\n",
       "      <td>132651</td>\n",
       "      <td>2601</td>\n",
       "      <td>Umenona</td>\n",
       "      <td>Odd</td>\n",
       "    </tr>\n",
       "    <tr>\n",
       "      <th>33</th>\n",
       "      <td>38</td>\n",
       "      <td>54872</td>\n",
       "      <td>1444</td>\n",
       "      <td>Umenona</td>\n",
       "      <td>Even</td>\n",
       "    </tr>\n",
       "    <tr>\n",
       "      <th>34</th>\n",
       "      <td>27</td>\n",
       "      <td>19683</td>\n",
       "      <td>729</td>\n",
       "      <td>Umenona</td>\n",
       "      <td>Odd</td>\n",
       "    </tr>\n",
       "  </tbody>\n",
       "</table>\n",
       "</div>"
      ],
      "text/plain": [
       "    numbers.name  cubed_numbers.name  squared_numbers.name bmi_series.name  \\\n",
       "0             41               68921                  1681         Umenona   \n",
       "1             95              857375                  9025         Umenona   \n",
       "2             19                6859                   361         Umenona   \n",
       "3             97              912673                  9409         Umenona   \n",
       "4             52              140608                  2704         Umenona   \n",
       "5             16                4096                   256         Umenona   \n",
       "6             85              614125                  7225         Umenona   \n",
       "7             76              438976                  5776         Umenona   \n",
       "8             56              175616                  3136         Umenona   \n",
       "9             59              205379                  3481         Umenona   \n",
       "10            18                5832                   324         Umenona   \n",
       "11            71              357911                  5041         Umenona   \n",
       "12            93              804357                  8649         Umenona   \n",
       "13             8                 512                    64         Umenona   \n",
       "14            83              571787                  6889         Umenona   \n",
       "15            13                2197                   169         Umenona   \n",
       "16            51              132651                  2601         Umenona   \n",
       "17            76              438976                  5776         Umenona   \n",
       "18            81              531441                  6561         Umenona   \n",
       "19            19                6859                   361         Umenona   \n",
       "20            32               32768                  1024         Umenona   \n",
       "21            82              551368                  6724         Umenona   \n",
       "22            36               46656                  1296         Umenona   \n",
       "23            54              157464                  2916         Umenona   \n",
       "24            75              421875                  5625         Umenona   \n",
       "25            50              125000                  2500         Umenona   \n",
       "26            31               29791                   961         Umenona   \n",
       "27            11                1331                   121         Umenona   \n",
       "28            56              175616                  3136         Umenona   \n",
       "29            81              531441                  6561         Umenona   \n",
       "30            12                1728                   144         Umenona   \n",
       "31            10                1000                   100         Umenona   \n",
       "32            51              132651                  2601         Umenona   \n",
       "33            38               54872                  1444         Umenona   \n",
       "34            27               19683                   729         Umenona   \n",
       "\n",
       "   even_odd_series  \n",
       "0              Odd  \n",
       "1              Odd  \n",
       "2              Odd  \n",
       "3              Odd  \n",
       "4             Even  \n",
       "5             Even  \n",
       "6              Odd  \n",
       "7             Even  \n",
       "8             Even  \n",
       "9              Odd  \n",
       "10            Even  \n",
       "11             Odd  \n",
       "12             Odd  \n",
       "13            Even  \n",
       "14             Odd  \n",
       "15             Odd  \n",
       "16             Odd  \n",
       "17            Even  \n",
       "18             Odd  \n",
       "19             Odd  \n",
       "20            Even  \n",
       "21            Even  \n",
       "22            Even  \n",
       "23            Even  \n",
       "24             Odd  \n",
       "25            Even  \n",
       "26             Odd  \n",
       "27             Odd  \n",
       "28            Even  \n",
       "29             Odd  \n",
       "30            Even  \n",
       "31            Even  \n",
       "32             Odd  \n",
       "33            Even  \n",
       "34             Odd  "
      ]
     },
     "execution_count": 56,
     "metadata": {},
     "output_type": "execute_result"
    }
   ],
   "source": [
    "# converting series into dataframe\n",
    "mine_df = pd.DataFrame({\n",
    "    \"numbers.name\": numbers,\n",
    "    \"cubed_numbers.name\" : cubed_numbers,\n",
    "    \"squared_numbers.name\" : squared_numbers,\n",
    "    \"bmi_series.name\" : bmi_series,\n",
    "    \"even_odd_series\": even_odd_series\n",
    "}) \n",
    "mine_df"
   ]
  },
  {
   "cell_type": "markdown",
   "metadata": {},
   "source": [
    "## Knock Yourself Out!"
   ]
  },
  {
   "cell_type": "markdown",
   "metadata": {},
   "source": [
    "You work as a real estate agent at *MoringaHome Realty*. To assist your clients in making informed decisions about property investment, you decide to analyze property data using Pandas. \n",
    "1. Generate 120 random numbers between  Ksh 4000 and Ksh 20,000 using numpy to represent the prices of the houses. \n",
    "2. Display the first and last 7 houses.\n",
    "3. Create a function that will take in the price of the house and return the category of that house, eg Suburb. The category is of your own series.\n",
    "4. Apply the function created above to the series.\n",
    "6. Apply a lambda function to increase the property prices by 10% due to the new tax laws.\n",
    "7. Apply a custom function to increase the property prices by and additional Ksh 250 for garbage. \n",
    "8. Create a new Series for each step and Finally Combine them all into a DataFrame name 'Moringa_property'."
   ]
  },
  {
   "cell_type": "code",
   "execution_count": 80,
   "metadata": {},
   "outputs": [
    {
     "data": {
      "text/plain": [
       "array([10031,  9026,  6613,  7620, 14198, 10022,  6546, 12065, 16651,\n",
       "        4050, 12118,  5314, 16423, 10252, 19379, 17176,  9805, 18806,\n",
       "        8468, 18675, 18029,  7722, 15410,  9197,  9445,  6562, 10779,\n",
       "       17628, 14818,  9710, 12736,  7880,  6413,  7794, 15684,  5049,\n",
       "       12437,  4565, 12964,  5962,  6568, 10984,  8548, 17015, 17990,\n",
       "       10571, 16113,  9621, 19049, 18457,  8068, 12295,  4937,  9923,\n",
       "        6862,  7680,  4179, 18772, 18748, 14749, 13821, 14037,  9870,\n",
       "       18820, 13673,  9843,  9996,  9432, 19726,  5986, 18829,  9010,\n",
       "       19934, 19475, 18390,  7321,  8931,  4446, 18287, 15750,  4190,\n",
       "        7211,  8097, 19559, 18414,  7625, 18392, 13178,  9020, 10498,\n",
       "       15418,  5792,  6927,  4446, 14125, 15510, 19286,  9291, 18161,\n",
       "       16079, 17841, 14293,  5691, 14658, 10219, 16363, 17062, 18452,\n",
       "        4390, 12444,  9975,  9087,  7767, 19552, 16811,  5045, 18785,\n",
       "       15950,  9799,  5628])"
      ]
     },
     "execution_count": 80,
     "metadata": {},
     "output_type": "execute_result"
    }
   ],
   "source": [
    "#Generating random Price \n",
    "random_numbers = np.random.randint(4000, 20000, size=120)\n",
    "random_numbers"
   ]
  },
  {
   "cell_type": "code",
   "execution_count": 81,
   "metadata": {},
   "outputs": [
    {
     "data": {
      "text/plain": [
       "0      10031\n",
       "1       9026\n",
       "2       6613\n",
       "3       7620\n",
       "4      14198\n",
       "       ...  \n",
       "115     5045\n",
       "116    18785\n",
       "117    15950\n",
       "118     9799\n",
       "119     5628\n",
       "Name: Bei ya Manyumba, Length: 120, dtype: int32"
      ]
     },
     "execution_count": 81,
     "metadata": {},
     "output_type": "execute_result"
    }
   ],
   "source": [
    "# creating a series\n",
    "prices = pd.Series(random_numbers, name= \"Bei ya Manyumba\")\n",
    "prices"
   ]
  },
  {
   "cell_type": "code",
   "execution_count": 82,
   "metadata": {},
   "outputs": [
    {
     "data": {
      "text/plain": [
       "0    10031\n",
       "1     9026\n",
       "2     6613\n",
       "3     7620\n",
       "4    14198\n",
       "5    10022\n",
       "6     6546\n",
       "Name: Bei ya Manyumba, dtype: int32"
      ]
     },
     "execution_count": 82,
     "metadata": {},
     "output_type": "execute_result"
    }
   ],
   "source": [
    "#Display the first  7 houses\n",
    "prices.head(7)\n",
    "\n"
   ]
  },
  {
   "cell_type": "code",
   "execution_count": 83,
   "metadata": {},
   "outputs": [
    {
     "data": {
      "text/plain": [
       "113    19552\n",
       "114    16811\n",
       "115     5045\n",
       "116    18785\n",
       "117    15950\n",
       "118     9799\n",
       "119     5628\n",
       "Name: Bei ya Manyumba, dtype: int32"
      ]
     },
     "execution_count": 83,
     "metadata": {},
     "output_type": "execute_result"
    }
   ],
   "source": [
    "#Display the last 7 houses\n",
    "prices.tail(7)"
   ]
  },
  {
   "cell_type": "code",
   "execution_count": 85,
   "metadata": {},
   "outputs": [
    {
     "data": {
      "text/plain": [
       "'Civil Servant Quarter'"
      ]
     },
     "execution_count": 85,
     "metadata": {},
     "output_type": "execute_result"
    }
   ],
   "source": [
    "#Create a function that will take in the price of the house and return the category of that house\n",
    "def price_value(x):\n",
    "\n",
    "    if x >=18000:\n",
    "        return \"No Boma Yetu\"\n",
    "    \n",
    "    elif x >15000 and x <18000:\n",
    "        return \"Boma Yetu\"\n",
    "    \n",
    "    else:\n",
    "         return \"Civil Servant Quarter\"\n",
    "    \n",
    "price_value(1799)"
   ]
  },
  {
   "cell_type": "code",
   "execution_count": 86,
   "metadata": {},
   "outputs": [
    {
     "data": {
      "text/plain": [
       "0     Civil Servant Quarter\n",
       "1     Civil Servant Quarter\n",
       "2     Civil Servant Quarter\n",
       "3     Civil Servant Quarter\n",
       "4     Civil Servant Quarter\n",
       "5     Civil Servant Quarter\n",
       "6     Civil Servant Quarter\n",
       "7     Civil Servant Quarter\n",
       "8                 Boma Yetu\n",
       "9     Civil Servant Quarter\n",
       "10    Civil Servant Quarter\n",
       "11    Civil Servant Quarter\n",
       "Name: HouseCategories, dtype: object"
      ]
     },
     "execution_count": 86,
     "metadata": {},
     "output_type": "execute_result"
    }
   ],
   "source": [
    "# Creating the function series\n",
    "price_series = prices.map(price_value)\n",
    "price_series.rename(\"HouseCategories\", inplace=True)\n",
    "price_series.head(12)"
   ]
  },
  {
   "cell_type": "code",
   "execution_count": 87,
   "metadata": {},
   "outputs": [
    {
     "data": {
      "text/plain": [
       "114                Boma Yetu\n",
       "115    Civil Servant Quarter\n",
       "116             No Boma Yetu\n",
       "117                Boma Yetu\n",
       "118    Civil Servant Quarter\n",
       "119    Civil Servant Quarter\n",
       "Name: HouseCategories, dtype: object"
      ]
     },
     "execution_count": 87,
     "metadata": {},
     "output_type": "execute_result"
    }
   ],
   "source": [
    "price_series.tail(6)"
   ]
  },
  {
   "cell_type": "code",
   "execution_count": 89,
   "metadata": {},
   "outputs": [
    {
     "data": {
      "text/plain": [
       "0      11034.1\n",
       "1       9928.6\n",
       "2       7274.3\n",
       "3       8382.0\n",
       "4      15617.8\n",
       "        ...   \n",
       "115     5549.5\n",
       "116    20663.5\n",
       "117    17545.0\n",
       "118    10778.9\n",
       "119     6190.8\n",
       "Name: Bei ya Manyumba, Length: 120, dtype: float64"
      ]
     },
     "execution_count": 89,
     "metadata": {},
     "output_type": "execute_result"
    }
   ],
   "source": [
    "\n",
    "price_series2 = prices.apply(lambda x: x * 1.10)\n",
    "price_series2\n"
   ]
  },
  {
   "cell_type": "code",
   "execution_count": 90,
   "metadata": {},
   "outputs": [
    {
     "data": {
      "text/plain": [
       "0    Civil Servant Quarter\n",
       "1    Civil Servant Quarter\n",
       "2    Civil Servant Quarter\n",
       "3    Civil Servant Quarter\n",
       "4                Boma Yetu\n",
       "Name: HouseCategories, dtype: object"
      ]
     },
     "execution_count": 90,
     "metadata": {},
     "output_type": "execute_result"
    }
   ],
   "source": [
    "price_categories = price_series2.map(price_value)\n",
    "price_categories.rename(\"HouseCategories\", inplace=True)\n",
    "price_categories.head(5)"
   ]
  },
  {
   "cell_type": "code",
   "execution_count": 91,
   "metadata": {},
   "outputs": [],
   "source": [
    "# Apply a custom function to increase the property prices by and additional Ksh 250 for garbage. \n",
    "def garbage_fee(price):\n",
    "    return price + 250"
   ]
  },
  {
   "cell_type": "code",
   "execution_count": 92,
   "metadata": {},
   "outputs": [
    {
     "data": {
      "text/plain": [
       "0      11034.1\n",
       "1       9928.6\n",
       "2       7274.3\n",
       "3       8382.0\n",
       "4      15617.8\n",
       "        ...   \n",
       "115     5549.5\n",
       "116    20663.5\n",
       "117    17545.0\n",
       "118    10778.9\n",
       "119     6190.8\n",
       "Name: Bei ya Manyumba, Length: 120, dtype: float64"
      ]
     },
     "execution_count": 92,
     "metadata": {},
     "output_type": "execute_result"
    }
   ],
   "source": [
    "price_series2"
   ]
  },
  {
   "cell_type": "code",
   "execution_count": 93,
   "metadata": {},
   "outputs": [],
   "source": [
    "updated_prices = price_series2.apply(garbage_fee)\n"
   ]
  },
  {
   "cell_type": "code",
   "execution_count": 94,
   "metadata": {},
   "outputs": [
    {
     "data": {
      "text/plain": [
       "0      11284.1\n",
       "1      10178.6\n",
       "2       7524.3\n",
       "3       8632.0\n",
       "4      15867.8\n",
       "        ...   \n",
       "115     5799.5\n",
       "116    20913.5\n",
       "117    17795.0\n",
       "118    11028.9\n",
       "119     6440.8\n",
       "Name: Bei ya Manyumba, Length: 120, dtype: float64"
      ]
     },
     "execution_count": 94,
     "metadata": {},
     "output_type": "execute_result"
    }
   ],
   "source": [
    "updated_prices"
   ]
  },
  {
   "cell_type": "code",
   "execution_count": 95,
   "metadata": {},
   "outputs": [],
   "source": [
    "New_rates = {\n",
    "    'Original Price': prices,\n",
    "    'House Suitability': price_series,\n",
    "    'House_levy %' : 10,\n",
    "    'New Price': price_series2,\n",
    "    'garbage_fee' : 250,\n",
    "    'updated_prices': updated_prices\n",
    "}\n"
   ]
  },
  {
   "cell_type": "code",
   "execution_count": 96,
   "metadata": {},
   "outputs": [
    {
     "data": {
      "text/html": [
       "<div>\n",
       "<style scoped>\n",
       "    .dataframe tbody tr th:only-of-type {\n",
       "        vertical-align: middle;\n",
       "    }\n",
       "\n",
       "    .dataframe tbody tr th {\n",
       "        vertical-align: top;\n",
       "    }\n",
       "\n",
       "    .dataframe thead th {\n",
       "        text-align: right;\n",
       "    }\n",
       "</style>\n",
       "<table border=\"1\" class=\"dataframe\">\n",
       "  <thead>\n",
       "    <tr style=\"text-align: right;\">\n",
       "      <th></th>\n",
       "      <th>Original Price</th>\n",
       "      <th>House Suitability</th>\n",
       "      <th>House_levy %</th>\n",
       "      <th>New Price</th>\n",
       "      <th>garbage_fee</th>\n",
       "      <th>updated_prices</th>\n",
       "    </tr>\n",
       "  </thead>\n",
       "  <tbody>\n",
       "    <tr>\n",
       "      <th>0</th>\n",
       "      <td>10031</td>\n",
       "      <td>Civil Servant Quarter</td>\n",
       "      <td>10</td>\n",
       "      <td>11034.1</td>\n",
       "      <td>250</td>\n",
       "      <td>11284.1</td>\n",
       "    </tr>\n",
       "    <tr>\n",
       "      <th>1</th>\n",
       "      <td>9026</td>\n",
       "      <td>Civil Servant Quarter</td>\n",
       "      <td>10</td>\n",
       "      <td>9928.6</td>\n",
       "      <td>250</td>\n",
       "      <td>10178.6</td>\n",
       "    </tr>\n",
       "    <tr>\n",
       "      <th>2</th>\n",
       "      <td>6613</td>\n",
       "      <td>Civil Servant Quarter</td>\n",
       "      <td>10</td>\n",
       "      <td>7274.3</td>\n",
       "      <td>250</td>\n",
       "      <td>7524.3</td>\n",
       "    </tr>\n",
       "    <tr>\n",
       "      <th>3</th>\n",
       "      <td>7620</td>\n",
       "      <td>Civil Servant Quarter</td>\n",
       "      <td>10</td>\n",
       "      <td>8382.0</td>\n",
       "      <td>250</td>\n",
       "      <td>8632.0</td>\n",
       "    </tr>\n",
       "    <tr>\n",
       "      <th>4</th>\n",
       "      <td>14198</td>\n",
       "      <td>Civil Servant Quarter</td>\n",
       "      <td>10</td>\n",
       "      <td>15617.8</td>\n",
       "      <td>250</td>\n",
       "      <td>15867.8</td>\n",
       "    </tr>\n",
       "    <tr>\n",
       "      <th>5</th>\n",
       "      <td>10022</td>\n",
       "      <td>Civil Servant Quarter</td>\n",
       "      <td>10</td>\n",
       "      <td>11024.2</td>\n",
       "      <td>250</td>\n",
       "      <td>11274.2</td>\n",
       "    </tr>\n",
       "    <tr>\n",
       "      <th>6</th>\n",
       "      <td>6546</td>\n",
       "      <td>Civil Servant Quarter</td>\n",
       "      <td>10</td>\n",
       "      <td>7200.6</td>\n",
       "      <td>250</td>\n",
       "      <td>7450.6</td>\n",
       "    </tr>\n",
       "  </tbody>\n",
       "</table>\n",
       "</div>"
      ],
      "text/plain": [
       "   Original Price      House Suitability  House_levy %  New Price  \\\n",
       "0           10031  Civil Servant Quarter            10    11034.1   \n",
       "1            9026  Civil Servant Quarter            10     9928.6   \n",
       "2            6613  Civil Servant Quarter            10     7274.3   \n",
       "3            7620  Civil Servant Quarter            10     8382.0   \n",
       "4           14198  Civil Servant Quarter            10    15617.8   \n",
       "5           10022  Civil Servant Quarter            10    11024.2   \n",
       "6            6546  Civil Servant Quarter            10     7200.6   \n",
       "\n",
       "   garbage_fee  updated_prices  \n",
       "0          250         11284.1  \n",
       "1          250         10178.6  \n",
       "2          250          7524.3  \n",
       "3          250          8632.0  \n",
       "4          250         15867.8  \n",
       "5          250         11274.2  \n",
       "6          250          7450.6  "
      ]
     },
     "metadata": {},
     "output_type": "display_data"
    }
   ],
   "source": [
    "#Create a new Series for each step and Finally Combine them all into a DataFrame name 'Moringa_property'\n",
    "Moringa_protery = pd.DataFrame(New_rates)\n",
    "display(Moringa_protery.head(7))"
   ]
  }
 ],
 "metadata": {
  "kernelspec": {
   "display_name": "Python 3",
   "language": "python",
   "name": "python3"
  },
  "language_info": {
   "codemirror_mode": {
    "name": "ipython",
    "version": 3
   },
   "file_extension": ".py",
   "mimetype": "text/x-python",
   "name": "python",
   "nbconvert_exporter": "python",
   "pygments_lexer": "ipython3",
   "version": "3.11.5"
  },
  "orig_nbformat": 4
 },
 "nbformat": 4,
 "nbformat_minor": 2
}
