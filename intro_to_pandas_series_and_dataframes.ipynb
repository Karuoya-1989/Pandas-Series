{
 "cells": [
  {
   "cell_type": "markdown",
   "metadata": {},
   "source": [
    "# Introduction to Pandas Series and DataFrames"
   ]
  },
  {
   "cell_type": "markdown",
   "metadata": {},
   "source": [
    "## Objectives"
   ]
  },
  {
   "cell_type": "markdown",
   "metadata": {},
   "source": [
    "* Understand Pandas Series and DataFrames\n",
    "* Creating Series and DataFrames\n",
    "* Basic Operations with Series \n",
    "* Exploring DataFrame Basics\n",
    "* Selecting Data from DataFrames\n",
    "* Applying Functions to Series and DataFrames"
   ]
  },
  {
   "cell_type": "markdown",
   "metadata": {},
   "source": [
    "## Loading Libraries"
   ]
  },
  {
   "cell_type": "code",
   "execution_count": 6,
   "metadata": {},
   "outputs": [],
   "source": [
    "# numpys - for arithmetic operations and high-level mathematical functions to operate on arrays\n",
    "import numpy as np\n",
    "# pandas - for working with relational or labeled data\n",
    "import pandas as pd\n",
    "data = [10, 20, 30, 40, 50]\n",
    "labels = ['A', 'B', 'C', 'D', 'E']\n",
    "\n",
    "# Create a Series with data and custom labels\n",
    "series = pd.Series(data, index=labels)\n"
   ]
  },
  {
   "cell_type": "markdown",
   "metadata": {},
   "source": [
    "## What is a Pandas Series?"
   ]
  },
  {
   "cell_type": "markdown",
   "metadata": {},
   "source": [
    "* **One-Dimensional** labeled Array capable of holding data on any type such as *intergers*, *string*, *float*, *python objects* etc.\n",
    "* A pandas series is like a column in a table.\n"
   ]
  },
  {
   "cell_type": "markdown",
   "metadata": {},
   "source": [
    "### Key features of a Pandas Series"
   ]
  },
  {
   "cell_type": "markdown",
   "metadata": {},
   "source": [
    "* **Homogeneous Data**: A Series Holds Data of a single data type(integer, float, string etc), ensuring homogeneity within the Series.\n",
    "* **Labeled Index**: Each element in a Series is associated with a label called an *index*. Having unique labels is a common practice, though not strictly required. The labels just need to be hashable types, ie they need to be used as keys in a dictionary. This index allows for easy and efficient data retrieval and manipulation.\n",
    "* **Vectorized Operations**: - Series support vectorized operations, ie you can apply operations to the entire series without the need for explicit loops.\n",
    "* **Alignment of Data**: - When performing operations on a Series, Pandas automatically aligns data based on index labels, which simplifies data manipulation.\n",
    "* **Creation**: - Can be created from a List, NumpyArrays, Dictionary, DataFrame slice and other data sources. "
   ]
  },
  {
   "cell_type": "code",
   "execution_count": 7,
   "metadata": {},
   "outputs": [
    {
     "data": {
      "text/plain": [
       "0     23\n",
       "1     19\n",
       "2     45\n",
       "3     67\n",
       "4     98\n",
       "5    100\n",
       "6     32\n",
       "7     76\n",
       "dtype: int64"
      ]
     },
     "execution_count": 7,
     "metadata": {},
     "output_type": "execute_result"
    }
   ],
   "source": [
    "# example of a series from a list \n",
    "marks = [23, 19, 45, 67, 98, 100, 32, 76 ]\n",
    "\n",
    "\n",
    "#series\n",
    "marks_series = pd.Series(marks)\n",
    "marks_series"
   ]
  },
  {
   "cell_type": "markdown",
   "metadata": {},
   "source": [
    "## Creating and Displaying"
   ]
  },
  {
   "cell_type": "code",
   "execution_count": 8,
   "metadata": {},
   "outputs": [
    {
     "data": {
      "text/plain": [
       "0    3.090\n",
       "1    3.700\n",
       "2    2.400\n",
       "3    1.234\n",
       "4    8.900\n",
       "5    3.400\n",
       "6    5.000\n",
       "Name: Composite Scores, dtype: float64"
      ]
     },
     "execution_count": 8,
     "metadata": {},
     "output_type": "execute_result"
    }
   ],
   "source": [
    "#example 1 Creating a series from a list\n",
    "data = [3.09, 3.7, 2.4, 1.234, 8.9, 3.4, 5]\n",
    "\n",
    "list_series = pd.Series(data, name=\"Composite Scores\")\n",
    "list_series"
   ]
  },
  {
   "cell_type": "code",
   "execution_count": 9,
   "metadata": {},
   "outputs": [
    {
     "data": {
      "text/plain": [
       "pandas.core.series.Series"
      ]
     },
     "execution_count": 9,
     "metadata": {},
     "output_type": "execute_result"
    }
   ],
   "source": [
    "type(list_series)"
   ]
  },
  {
   "cell_type": "code",
   "execution_count": 10,
   "metadata": {},
   "outputs": [
    {
     "data": {
      "text/plain": [
       "numpy.ndarray"
      ]
     },
     "execution_count": 10,
     "metadata": {},
     "output_type": "execute_result"
    }
   ],
   "source": [
    "# Creaming a series from numPy Array\n",
    "data_arr = np.array(data) #crated an array from list\n",
    "\n",
    "type(data_arr)"
   ]
  },
  {
   "cell_type": "code",
   "execution_count": 11,
   "metadata": {},
   "outputs": [
    {
     "data": {
      "text/plain": [
       "0    3.090\n",
       "1    3.700\n",
       "2    2.400\n",
       "3    1.234\n",
       "4    8.900\n",
       "5    3.400\n",
       "6    5.000\n",
       "Name: Array, dtype: float64"
      ]
     },
     "execution_count": 11,
     "metadata": {},
     "output_type": "execute_result"
    }
   ],
   "source": [
    "#series from array\n",
    "arr_series = pd.Series(data_arr, name=\"Array\")\n",
    "\n",
    "arr_series\n",
    "\n"
   ]
  },
  {
   "cell_type": "code",
   "execution_count": 12,
   "metadata": {},
   "outputs": [
    {
     "data": {
      "text/plain": [
       "dict"
      ]
     },
     "execution_count": 12,
     "metadata": {},
     "output_type": "execute_result"
    }
   ],
   "source": [
    "# series from dictonary\n",
    "data_dict={\n",
    "    \"Nakuru\" : 3.09,\n",
    "    \"Kisumu\" : 3.7,\n",
    "    \"Nyeri\" : 2.4,\n",
    "    \"Mombasa\" : 1.234,\n",
    "    \"Eldoret\" : 8.9,\n",
    "    \"Meru\" : 3.4,\n",
    "    \"Nairobi\" : 5\n",
    "\n",
    "}\n",
    "\n",
    "type(data_dict)"
   ]
  },
  {
   "cell_type": "code",
   "execution_count": 13,
   "metadata": {},
   "outputs": [
    {
     "data": {
      "text/plain": [
       "Nakuru     3.090\n",
       "Kisumu     3.700\n",
       "Nyeri      2.400\n",
       "Mombasa    1.234\n",
       "Eldoret    8.900\n",
       "Meru       3.400\n",
       "Nairobi    5.000\n",
       "Name: COA Sores, dtype: float64"
      ]
     },
     "execution_count": 13,
     "metadata": {},
     "output_type": "execute_result"
    }
   ],
   "source": [
    "dict_series= pd.Series(data_dict, name= \"COA Sores\")\n",
    "dict_series"
   ]
  },
  {
   "cell_type": "code",
   "execution_count": 14,
   "metadata": {},
   "outputs": [
    {
     "data": {
      "text/plain": [
       "1    100\n",
       "2     65\n",
       "3     78\n",
       "4     34\n",
       "5     90\n",
       "6     86\n",
       "7     20\n",
       "Name: COA Marks, dtype: int64"
      ]
     },
     "execution_count": 14,
     "metadata": {},
     "output_type": "execute_result"
    }
   ],
   "source": [
    "\n",
    "Percent_score = [100, 65, 78, 34, 90, 86, 20]\n",
    "custom_labels = [1, 2, 3, 4, 5, 6, 7]\n",
    "\n",
    "# Create a pandas Series with custom labels and a specified name\n",
    "custom_labels = pd.Series(data=Percent_score, index=custom_labels, name=\"COA Marks\")\n",
    "\n",
    "# Display the resulting Series\n",
    "custom_labels\n"
   ]
  },
  {
   "cell_type": "code",
   "execution_count": 15,
   "metadata": {},
   "outputs": [
    {
     "data": {
      "text/plain": [
       "Nakuru     100\n",
       "Kisumu      65\n",
       "Nyeri       78\n",
       "Mombasa     34\n",
       "Eldoret     90\n",
       "Meru        86\n",
       "Nairobi     20\n",
       "Name: COA Marks, dtype: int64"
      ]
     },
     "execution_count": 15,
     "metadata": {},
     "output_type": "execute_result"
    }
   ],
   "source": [
    "Percent_score = [100, 65, 78, 34, 90, 86, 20]\n",
    "custom_labels = (data_dict)\n",
    "\n",
    "# Create a pandas Series with custom labels and a specified name\n",
    "custom_labels = pd.Series(data=Percent_score, index=custom_labels, name=\"COA Marks\")\n",
    "\n",
    "# Display the resulting Series\n",
    "custom_labels\n"
   ]
  },
  {
   "cell_type": "markdown",
   "metadata": {},
   "source": [
    "## Basic Operations With Series"
   ]
  },
  {
   "cell_type": "code",
   "execution_count": 16,
   "metadata": {},
   "outputs": [
    {
     "data": {
      "text/plain": [
       "0    3.090\n",
       "1    3.700\n",
       "2    2.400\n",
       "3    1.234\n",
       "4    8.900\n",
       "5    3.400\n",
       "6    5.000\n",
       "Name: Array, dtype: float64"
      ]
     },
     "execution_count": 16,
     "metadata": {},
     "output_type": "execute_result"
    }
   ],
   "source": [
    "arr_series"
   ]
  },
  {
   "cell_type": "code",
   "execution_count": 17,
   "metadata": {},
   "outputs": [
    {
     "name": "stdout",
     "output_type": "stream",
     "text": [
      "8.9\n"
     ]
    }
   ],
   "source": [
    "print(arr_series[4])"
   ]
  },
  {
   "cell_type": "code",
   "execution_count": 18,
   "metadata": {},
   "outputs": [
    {
     "name": "stdout",
     "output_type": "stream",
     "text": [
      "90\n"
     ]
    }
   ],
   "source": [
    "# Example 1  Access elements in a s series\n",
    "\n",
    "elements = custom_labels[4]\n",
    "print(elements)"
   ]
  },
  {
   "cell_type": "code",
   "execution_count": 19,
   "metadata": {},
   "outputs": [
    {
     "data": {
      "text/plain": [
       "Nakuru     3.090\n",
       "Kisumu     3.700\n",
       "Nyeri      2.400\n",
       "Mombasa    1.234\n",
       "Eldoret    8.900\n",
       "Meru       3.400\n",
       "Nairobi    5.000\n",
       "Name: COA Sores, dtype: float64"
      ]
     },
     "execution_count": 19,
     "metadata": {},
     "output_type": "execute_result"
    }
   ],
   "source": [
    "dict_series"
   ]
  },
  {
   "cell_type": "code",
   "execution_count": 20,
   "metadata": {},
   "outputs": [
    {
     "name": "stdout",
     "output_type": "stream",
     "text": [
      "3.7\n"
     ]
    }
   ],
   "source": [
    "print(dict_series[\"Kisumu\"])"
   ]
  },
  {
   "cell_type": "code",
   "execution_count": 21,
   "metadata": {},
   "outputs": [
    {
     "data": {
      "text/plain": [
       "Nakuru     100\n",
       "Kisumu      65\n",
       "Nyeri       78\n",
       "Mombasa     34\n",
       "Eldoret     90\n",
       "Meru        86\n",
       "Nairobi     20\n",
       "Name: COA Marks, dtype: int64"
      ]
     },
     "execution_count": 21,
     "metadata": {},
     "output_type": "execute_result"
    }
   ],
   "source": [
    "custom_labels"
   ]
  },
  {
   "cell_type": "code",
   "execution_count": 22,
   "metadata": {},
   "outputs": [
    {
     "name": "stdout",
     "output_type": "stream",
     "text": [
      "Nakuru     100\n",
      "Kisumu      65\n",
      "Nyeri       78\n",
      "Mombasa     34\n",
      "Eldoret     90\n",
      "Name: COA Marks, dtype: int64\n"
     ]
    }
   ],
   "source": [
    "print(custom_labels['Nakuru':'Eldoret'])"
   ]
  },
  {
   "cell_type": "code",
   "execution_count": 23,
   "metadata": {},
   "outputs": [
    {
     "data": {
      "text/plain": [
       "Nakuru     1.00\n",
       "Kisumu     0.65\n",
       "Nyeri      0.78\n",
       "Mombasa    0.34\n",
       "Eldoret    0.90\n",
       "Meru       0.86\n",
       "Nairobi    0.20\n",
       "Name: COA Marks, dtype: float64"
      ]
     },
     "execution_count": 23,
     "metadata": {},
     "output_type": "execute_result"
    }
   ],
   "source": [
    "#arithematic operations\n",
    "# convert in percentage\n",
    "x = custom_labels / 100\n",
    "x\n"
   ]
  },
  {
   "cell_type": "code",
   "execution_count": 24,
   "metadata": {},
   "outputs": [
    {
     "data": {
      "text/plain": [
       "Nakuru     100.0\n",
       "Kisumu      65.0\n",
       "Nyeri       78.0\n",
       "Mombasa     34.0\n",
       "Eldoret     90.0\n",
       "Meru        86.0\n",
       "Nairobi     20.0\n",
       "Name: COA Marks, dtype: float64"
      ]
     },
     "execution_count": 24,
     "metadata": {},
     "output_type": "execute_result"
    }
   ],
   "source": [
    "x = x * 100\n",
    "x"
   ]
  },
  {
   "cell_type": "code",
   "execution_count": 25,
   "metadata": {},
   "outputs": [
    {
     "data": {
      "text/plain": [
       "Nakuru     100.0\n",
       "Nyeri       78.0\n",
       "Eldoret     90.0\n",
       "Meru        86.0\n",
       "Name: COA Marks, dtype: float64"
      ]
     },
     "execution_count": 25,
     "metadata": {},
     "output_type": "execute_result"
    }
   ],
   "source": [
    "#filter the elements\n",
    "x_filtered = x[x >= 78]\n",
    "x_filtered\n"
   ]
  },
  {
   "cell_type": "code",
   "execution_count": 26,
   "metadata": {},
   "outputs": [
    {
     "data": {
      "text/plain": [
       "Nakuru     100\n",
       "Kisumu      65\n",
       "Nyeri       78\n",
       "Mombasa     34\n",
       "Eldoret     90\n",
       "Meru        86\n",
       "Nairobi     20\n",
       "Name: COA Marks, dtype: int64"
      ]
     },
     "execution_count": 26,
     "metadata": {},
     "output_type": "execute_result"
    }
   ],
   "source": [
    "# summary statistics\n",
    "custom_labels"
   ]
  },
  {
   "cell_type": "code",
   "execution_count": 27,
   "metadata": {},
   "outputs": [
    {
     "name": "stdout",
     "output_type": "stream",
     "text": [
      "67.57142857142857\n"
     ]
    }
   ],
   "source": [
    "mean = x.mean()\n",
    "print(mean)"
   ]
  },
  {
   "cell_type": "code",
   "execution_count": null,
   "metadata": {},
   "outputs": [],
   "source": []
  },
  {
   "cell_type": "code",
   "execution_count": 28,
   "metadata": {},
   "outputs": [
    {
     "name": "stdout",
     "output_type": "stream",
     "text": [
      "29.999206338708046\n"
     ]
    }
   ],
   "source": [
    "std = x.std()\n",
    "print(std)"
   ]
  },
  {
   "cell_type": "code",
   "execution_count": 29,
   "metadata": {},
   "outputs": [
    {
     "name": "stdout",
     "output_type": "stream",
     "text": [
      "100.0\n"
     ]
    }
   ],
   "source": [
    "max = x.max()\n",
    "print(max)"
   ]
  },
  {
   "cell_type": "markdown",
   "metadata": {},
   "source": [
    "## Applying Functions to a Series "
   ]
  },
  {
   "cell_type": "markdown",
   "metadata": {},
   "source": [
    "### Lambda Functions"
   ]
  },
  {
   "cell_type": "markdown",
   "metadata": {},
   "source": [
    "* Small anonymous function that is not bound to an identifier.\n",
    "* Similar to user defined functions but without a name.\n",
    "* It's simple and straightfoward, requiring only the argument(s) and expression, alongside the keyword `lambda`.\n",
    "* They require only one line of code.\n",
    "\n",
    "```\n",
    "def func_name(parameters):\n",
    "    code block\n",
    "    \n",
    "    return return_value\n",
    "```\n",
    "\n",
    "`func = lamda parameters: return_value`\n",
    "\n",
    "* `lambda` : Keyword that indicates definition of a lambda function.\n",
    "* `parameters`: The input parameters that the lambda function will take.\n",
    "* `return_value`: A single expression that defines the compuation the lambda function performs and its return value "
   ]
  },
  {
   "cell_type": "code",
   "execution_count": 30,
   "metadata": {},
   "outputs": [
    {
     "data": {
      "text/plain": [
       "49"
      ]
     },
     "execution_count": 30,
     "metadata": {},
     "output_type": "execute_result"
    }
   ],
   "source": [
    "# Compare the two\n",
    "def square(x):\n",
    "\n",
    "    out = x ** 2\n",
    "\n",
    "    return out\n",
    "square(7)"
   ]
  },
  {
   "cell_type": "code",
   "execution_count": 31,
   "metadata": {},
   "outputs": [
    {
     "data": {
      "text/plain": [
       "64"
      ]
     },
     "execution_count": 31,
     "metadata": {},
     "output_type": "execute_result"
    }
   ],
   "source": [
    "# labda function\n",
    "square_lambda = lambda x: x ** 2\n",
    "\n",
    "square_lambda(8)"
   ]
  },
  {
   "cell_type": "code",
   "execution_count": 32,
   "metadata": {},
   "outputs": [
    {
     "data": {
      "text/plain": [
       "'hello Universe'"
      ]
     },
     "execution_count": 32,
     "metadata": {},
     "output_type": "execute_result"
    }
   ],
   "source": [
    "# lambda function to print Hello world\n",
    "def print_hello():\n",
    "    y = 'hello Universe'\n",
    "\n",
    "    return y\n",
    "\n",
    "print_hello()"
   ]
  },
  {
   "cell_type": "code",
   "execution_count": 33,
   "metadata": {},
   "outputs": [
    {
     "data": {
      "text/plain": [
       "'hello Universe'"
      ]
     },
     "execution_count": 33,
     "metadata": {},
     "output_type": "execute_result"
    }
   ],
   "source": [
    "letter = lambda: \"hello Universe\"\n",
    "\n",
    "letter()\n",
    "\n"
   ]
  },
  {
   "cell_type": "code",
   "execution_count": 34,
   "metadata": {},
   "outputs": [
    {
     "data": {
      "text/plain": [
       "'Join the clan'"
      ]
     },
     "execution_count": 34,
     "metadata": {},
     "output_type": "execute_result"
    }
   ],
   "source": [
    "Opening_statement = lambda: \"Join the clan\"\n",
    "\n",
    "Opening_statement()"
   ]
  },
  {
   "cell_type": "code",
   "execution_count": 35,
   "metadata": {},
   "outputs": [
    {
     "data": {
      "text/plain": [
       "'Odd'"
      ]
     },
     "execution_count": 35,
     "metadata": {},
     "output_type": "execute_result"
    }
   ],
   "source": [
    "def even_odd(number: int):\n",
    "    \"\"\" check if a number is even or odd \"\"\"\n",
    "    if   (number% 2 == 0):\n",
    "        return 'Even'\n",
    "    else:\n",
    "        return 'Odd'\n",
    "    \n",
    "even_odd(75)"
   ]
  },
  {
   "cell_type": "code",
   "execution_count": 36,
   "metadata": {},
   "outputs": [
    {
     "data": {
      "text/plain": [
       "'Even'"
      ]
     },
     "execution_count": 36,
     "metadata": {},
     "output_type": "execute_result"
    }
   ],
   "source": [
    "even_lambda = lambda number: \"Even\" if (number %2 ==0) else \"Odd\" \n",
    "\n",
    "even_lambda(76)"
   ]
  },
  {
   "cell_type": "code",
   "execution_count": 37,
   "metadata": {},
   "outputs": [
    {
     "data": {
      "text/plain": [
       "'Odd'"
      ]
     },
     "execution_count": 37,
     "metadata": {},
     "output_type": "execute_result"
    }
   ],
   "source": [
    "even_lambda = lambda number: \"Even\" if (number %2 ==0) else \"Odd\" \n",
    "\n",
    "even_lambda(79)"
   ]
  },
  {
   "cell_type": "markdown",
   "metadata": {},
   "source": [
    "### Generate Random Numbers"
   ]
  },
  {
   "cell_type": "markdown",
   "metadata": {},
   "source": [
    "Using NumPy library to generate random Numbers."
   ]
  },
  {
   "cell_type": "code",
   "execution_count": 38,
   "metadata": {},
   "outputs": [],
   "source": [
    "import numpy as np"
   ]
  },
  {
   "cell_type": "code",
   "execution_count": 39,
   "metadata": {},
   "outputs": [],
   "source": [
    "random_numbers = np.random.randint(1, 100, size=35)"
   ]
  },
  {
   "cell_type": "code",
   "execution_count": 40,
   "metadata": {},
   "outputs": [
    {
     "data": {
      "text/plain": [
       "array([ 3, 99, 21, 44, 94,  3, 65, 58, 37,  1, 64,  5, 72, 21, 13, 90, 81,\n",
       "       67, 12, 22,  1, 72, 84, 90, 86, 73, 39, 47, 33, 30, 92, 71, 25, 20,\n",
       "       69])"
      ]
     },
     "execution_count": 40,
     "metadata": {},
     "output_type": "execute_result"
    }
   ],
   "source": [
    "# how to display the generated numbers\n",
    "random_numbers"
   ]
  },
  {
   "cell_type": "code",
   "execution_count": 41,
   "metadata": {},
   "outputs": [],
   "source": [
    "import pandas as pd"
   ]
  },
  {
   "cell_type": "code",
   "execution_count": 42,
   "metadata": {},
   "outputs": [
    {
     "data": {
      "text/plain": [
       "0      3\n",
       "1     99\n",
       "2     21\n",
       "3     44\n",
       "4     94\n",
       "5      3\n",
       "6     65\n",
       "7     58\n",
       "8     37\n",
       "9      1\n",
       "10    64\n",
       "11     5\n",
       "12    72\n",
       "13    21\n",
       "14    13\n",
       "15    90\n",
       "16    81\n",
       "17    67\n",
       "18    12\n",
       "19    22\n",
       "20     1\n",
       "21    72\n",
       "22    84\n",
       "23    90\n",
       "24    86\n",
       "25    73\n",
       "26    39\n",
       "27    47\n",
       "28    33\n",
       "29    30\n",
       "30    92\n",
       "31    71\n",
       "32    25\n",
       "33    20\n",
       "34    69\n",
       "Name: Evaluation Team, dtype: int32"
      ]
     },
     "execution_count": 42,
     "metadata": {},
     "output_type": "execute_result"
    }
   ],
   "source": [
    "numbers = pd.Series(random_numbers, name= \"Evaluation Team\")\n",
    "\n",
    "numbers"
   ]
  },
  {
   "cell_type": "code",
   "execution_count": 43,
   "metadata": {},
   "outputs": [
    {
     "data": {
      "text/plain": [
       "0     3\n",
       "1    99\n",
       "2    21\n",
       "3    44\n",
       "4    94\n",
       "Name: Evaluation Team, dtype: int32"
      ]
     },
     "execution_count": 43,
     "metadata": {},
     "output_type": "execute_result"
    }
   ],
   "source": [
    "# display the first five rows of the series\n",
    "numbers.head()\n"
   ]
  },
  {
   "cell_type": "code",
   "execution_count": 44,
   "metadata": {},
   "outputs": [
    {
     "data": {
      "text/plain": [
       "0     3\n",
       "1    99\n",
       "2    21\n",
       "3    44\n",
       "4    94\n",
       "5     3\n",
       "6    65\n",
       "7    58\n",
       "8    37\n",
       "9     1\n",
       "Name: Evaluation Team, dtype: int32"
      ]
     },
     "execution_count": 44,
     "metadata": {},
     "output_type": "execute_result"
    }
   ],
   "source": [
    "# display the first 10 rows of the series\n",
    "numbers.head(10)"
   ]
  },
  {
   "cell_type": "code",
   "execution_count": 45,
   "metadata": {},
   "outputs": [
    {
     "data": {
      "text/plain": [
       "30    92\n",
       "31    71\n",
       "32    25\n",
       "33    20\n",
       "34    69\n",
       "Name: Evaluation Team, dtype: int32"
      ]
     },
     "execution_count": 45,
     "metadata": {},
     "output_type": "execute_result"
    }
   ],
   "source": [
    "# display last five rows\n",
    "numbers.tail()"
   ]
  },
  {
   "cell_type": "code",
   "execution_count": 46,
   "metadata": {},
   "outputs": [
    {
     "data": {
      "text/plain": [
       "28    33\n",
       "29    30\n",
       "30    92\n",
       "31    71\n",
       "32    25\n",
       "33    20\n",
       "34    69\n",
       "Name: Evaluation Team, dtype: int32"
      ]
     },
     "execution_count": 46,
     "metadata": {},
     "output_type": "execute_result"
    }
   ],
   "source": [
    "numbers.tail(7)"
   ]
  },
  {
   "cell_type": "markdown",
   "metadata": {},
   "source": [
    "### Using the `apply()` Function in a Series\n",
    "\n",
    "* It's a powerful way to transform and analyze the data within the series.\n",
    "* Above we have generate a series of random numbers, and created a function called `square` that takes in an int, squares it and return the value. Lets apply that function to the series."
   ]
  },
  {
   "cell_type": "code",
   "execution_count": 47,
   "metadata": {},
   "outputs": [
    {
     "data": {
      "text/plain": [
       "16"
      ]
     },
     "execution_count": 47,
     "metadata": {},
     "output_type": "execute_result"
    }
   ],
   "source": [
    "# square the series random numbers \n",
    "square(4)"
   ]
  },
  {
   "cell_type": "code",
   "execution_count": 48,
   "metadata": {},
   "outputs": [
    {
     "data": {
      "text/plain": [
       "0        9\n",
       "1     9801\n",
       "2      441\n",
       "3     1936\n",
       "4     8836\n",
       "5        9\n",
       "6     4225\n",
       "7     3364\n",
       "8     1369\n",
       "9        1\n",
       "10    4096\n",
       "11      25\n",
       "12    5184\n",
       "13     441\n",
       "14     169\n",
       "15    8100\n",
       "16    6561\n",
       "17    4489\n",
       "18     144\n",
       "19     484\n",
       "20       1\n",
       "21    5184\n",
       "22    7056\n",
       "23    8100\n",
       "24    7396\n",
       "25    5329\n",
       "26    1521\n",
       "27    2209\n",
       "28    1089\n",
       "29     900\n",
       "30    8464\n",
       "31    5041\n",
       "32     625\n",
       "33     400\n",
       "34    4761\n",
       "Name: Evaluation Team, dtype: int64"
      ]
     },
     "execution_count": 48,
     "metadata": {},
     "output_type": "execute_result"
    }
   ],
   "source": [
    "# square the series random number\n",
    "squared_numbers = numbers.apply(square)\n",
    "squared_numbers"
   ]
  },
  {
   "cell_type": "code",
   "execution_count": 49,
   "metadata": {},
   "outputs": [
    {
     "data": {
      "text/plain": [
       "0        9\n",
       "1     9801\n",
       "2      441\n",
       "3     1936\n",
       "4     8836\n",
       "5        9\n",
       "6     4225\n",
       "7     3364\n",
       "8     1369\n",
       "9        1\n",
       "10    4096\n",
       "11      25\n",
       "12    5184\n",
       "13     441\n",
       "14     169\n",
       "15    8100\n",
       "16    6561\n",
       "17    4489\n",
       "18     144\n",
       "19     484\n",
       "20       1\n",
       "21    5184\n",
       "22    7056\n",
       "23    8100\n",
       "24    7396\n",
       "25    5329\n",
       "26    1521\n",
       "27    2209\n",
       "28    1089\n",
       "29     900\n",
       "30    8464\n",
       "31    5041\n",
       "32     625\n",
       "33     400\n",
       "34    4761\n",
       "Name: Squared Numbers, dtype: int64"
      ]
     },
     "execution_count": 49,
     "metadata": {},
     "output_type": "execute_result"
    }
   ],
   "source": [
    "# use .rename to rename the series\n",
    "squared_numbers.rename(\"Squared Numbers\", inplace=True) # inplace = True makes the changes permanent accross the program\n",
    "\n"
   ]
  },
  {
   "cell_type": "code",
   "execution_count": 50,
   "metadata": {},
   "outputs": [
    {
     "data": {
      "text/plain": [
       "0       9\n",
       "1    9801\n",
       "2     441\n",
       "3    1936\n",
       "Name: Squared Numbers, dtype: int64"
      ]
     },
     "execution_count": 50,
     "metadata": {},
     "output_type": "execute_result"
    }
   ],
   "source": [
    "squared_numbers.head(4)"
   ]
  },
  {
   "cell_type": "markdown",
   "metadata": {},
   "source": [
    "### `lambda` function with `apply()`"
   ]
  },
  {
   "cell_type": "code",
   "execution_count": 51,
   "metadata": {},
   "outputs": [
    {
     "data": {
      "text/plain": [
       "0        27\n",
       "1    970299\n",
       "2      9261\n",
       "3     85184\n",
       "4    830584\n",
       "Name: Evaluation Team, dtype: int64"
      ]
     },
     "execution_count": 51,
     "metadata": {},
     "output_type": "execute_result"
    }
   ],
   "source": [
    "# Cube the numbers using lambda and apply\n",
    "cubed_numbers = numbers.apply(lambda k: k **3)\n",
    "cubed_numbers.head()"
   ]
  },
  {
   "cell_type": "code",
   "execution_count": 52,
   "metadata": {},
   "outputs": [
    {
     "data": {
      "text/plain": [
       "30    778688\n",
       "31    357911\n",
       "32     15625\n",
       "33      8000\n",
       "34    328509\n",
       "Name: Evaluation Team, dtype: int64"
      ]
     },
     "execution_count": 52,
     "metadata": {},
     "output_type": "execute_result"
    }
   ],
   "source": [
    "# Cube the numbers using lambda and apply\n",
    "cubed_numbers = numbers.apply(lambda k: k **3)\n",
    "cubed_numbers.tail()"
   ]
  },
  {
   "cell_type": "code",
   "execution_count": 53,
   "metadata": {},
   "outputs": [
    {
     "data": {
      "text/plain": [
       "0         27\n",
       "1     970299\n",
       "2       9261\n",
       "3      85184\n",
       "4     830584\n",
       "5         27\n",
       "6     274625\n",
       "7     195112\n",
       "8      50653\n",
       "9          1\n",
       "10    262144\n",
       "11       125\n",
       "12    373248\n",
       "13      9261\n",
       "14      2197\n",
       "15    729000\n",
       "16    531441\n",
       "17    300763\n",
       "18      1728\n",
       "19     10648\n",
       "20         1\n",
       "21    373248\n",
       "22    592704\n",
       "23    729000\n",
       "24    636056\n",
       "25    389017\n",
       "26     59319\n",
       "27    103823\n",
       "28     35937\n",
       "29     27000\n",
       "30    778688\n",
       "31    357911\n",
       "32     15625\n",
       "33      8000\n",
       "34    328509\n",
       "Name: Cubed Numbers, dtype: int64"
      ]
     },
     "execution_count": 53,
     "metadata": {},
     "output_type": "execute_result"
    }
   ],
   "source": [
    "# rename the series\n",
    "cubed_numbers.rename(\"Cubed Numbers\", inplace=True)"
   ]
  },
  {
   "cell_type": "code",
   "execution_count": 54,
   "metadata": {},
   "outputs": [
    {
     "data": {
      "text/plain": [
       "0        27\n",
       "1    970299\n",
       "2      9261\n",
       "3     85184\n",
       "4    830584\n",
       "Name: Cubed Numbers, dtype: int64"
      ]
     },
     "execution_count": 54,
     "metadata": {},
     "output_type": "execute_result"
    }
   ],
   "source": [
    "cubed_numbers.head()"
   ]
  },
  {
   "cell_type": "markdown",
   "metadata": {},
   "source": [
    "### Using the `map()` Function in a series"
   ]
  },
  {
   "cell_type": "markdown",
   "metadata": {},
   "source": [
    "* Used to substitute each value in a Series with another value creating a convenient way to transform the values in a Series."
   ]
  },
  {
   "cell_type": "code",
   "execution_count": 55,
   "metadata": {},
   "outputs": [
    {
     "data": {
      "text/plain": [
       "'Nonaless'"
      ]
     },
     "execution_count": 55,
     "metadata": {},
     "output_type": "execute_result"
    }
   ],
   "source": [
    "def bmi_value(x):\n",
    "\n",
    "    if x >=1345:\n",
    "        return \"Nonaless\"\n",
    "    \n",
    "    else:\n",
    "         return \"Umenona\"\n",
    "    \n",
    "bmi_value(1345)"
   ]
  },
  {
   "cell_type": "code",
   "execution_count": 56,
   "metadata": {},
   "outputs": [
    {
     "data": {
      "text/plain": [
       "0    Umenona\n",
       "1    Umenona\n",
       "2    Umenona\n",
       "3    Umenona\n",
       "4    Umenona\n",
       "5    Umenona\n",
       "6    Umenona\n",
       "7    Umenona\n",
       "Name: BMI Series, dtype: object"
      ]
     },
     "execution_count": 56,
     "metadata": {},
     "output_type": "execute_result"
    }
   ],
   "source": [
    "# map our random numbers as Nona or Nonaless\n",
    "bmi_series = numbers.map(bmi_value)\n",
    "bmi_series.rename(\"BMI Series\", inplace=True)\n",
    "bmi_series.head(8)\n"
   ]
  },
  {
   "cell_type": "code",
   "execution_count": null,
   "metadata": {},
   "outputs": [],
   "source": []
  },
  {
   "cell_type": "markdown",
   "metadata": {},
   "source": [
    "### `lambda` function with `map()`"
   ]
  },
  {
   "cell_type": "code",
   "execution_count": 57,
   "metadata": {},
   "outputs": [
    {
     "data": {
      "text/plain": [
       "0      6\n",
       "1    198\n",
       "2     42\n",
       "3     88\n",
       "4    188\n",
       "Name: Doubled Numbers, dtype: int64"
      ]
     },
     "execution_count": 57,
     "metadata": {},
     "output_type": "execute_result"
    }
   ],
   "source": [
    "# use lamda function with map() to double each number\n",
    "double_number = numbers.map(lambda t: t* 2)\n",
    "double_number.rename(\"Doubled Numbers\", inplace=True)\n",
    "double_number.head(5)"
   ]
  },
  {
   "cell_type": "markdown",
   "metadata": {},
   "source": [
    "### `lamda` function with Conditional Statement"
   ]
  },
  {
   "cell_type": "code",
   "execution_count": 58,
   "metadata": {},
   "outputs": [
    {
     "data": {
      "text/plain": [
       "0     Odd\n",
       "1     Odd\n",
       "2     Odd\n",
       "3    Even\n",
       "4    Even\n",
       "Name: Even Odd Series, dtype: object"
      ]
     },
     "execution_count": 58,
     "metadata": {},
     "output_type": "execute_result"
    }
   ],
   "source": [
    "# are the random numbers even or odd\n",
    "even_odd_series = numbers.apply(lambda k: 'Even' if (k % 2 == 0) else 'Odd')\n",
    "even_odd_series.rename(\"Even Odd Series\", inplace=True)\n",
    "even_odd_series.head()"
   ]
  },
  {
   "cell_type": "markdown",
   "metadata": {},
   "source": [
    "## Series to DataFrame "
   ]
  },
  {
   "cell_type": "markdown",
   "metadata": {},
   "source": [
    "* `if` a **Series** is a *table* with a single column, `elif` a **DataFrame** is a *table* with two or more columns."
   ]
  },
  {
   "cell_type": "code",
   "execution_count": 59,
   "metadata": {},
   "outputs": [],
   "source": [
    "import pandas as pd"
   ]
  },
  {
   "cell_type": "code",
   "execution_count": 60,
   "metadata": {},
   "outputs": [
    {
     "data": {
      "text/html": [
       "<div>\n",
       "<style scoped>\n",
       "    .dataframe tbody tr th:only-of-type {\n",
       "        vertical-align: middle;\n",
       "    }\n",
       "\n",
       "    .dataframe tbody tr th {\n",
       "        vertical-align: top;\n",
       "    }\n",
       "\n",
       "    .dataframe thead th {\n",
       "        text-align: right;\n",
       "    }\n",
       "</style>\n",
       "<table border=\"1\" class=\"dataframe\">\n",
       "  <thead>\n",
       "    <tr style=\"text-align: right;\">\n",
       "      <th></th>\n",
       "      <th>numbers.name</th>\n",
       "      <th>cubed_numbers.name</th>\n",
       "      <th>squared_numbers.name</th>\n",
       "      <th>bmi_series.name</th>\n",
       "      <th>even_odd_series</th>\n",
       "    </tr>\n",
       "  </thead>\n",
       "  <tbody>\n",
       "    <tr>\n",
       "      <th>0</th>\n",
       "      <td>3</td>\n",
       "      <td>27</td>\n",
       "      <td>9</td>\n",
       "      <td>Umenona</td>\n",
       "      <td>Odd</td>\n",
       "    </tr>\n",
       "    <tr>\n",
       "      <th>1</th>\n",
       "      <td>99</td>\n",
       "      <td>970299</td>\n",
       "      <td>9801</td>\n",
       "      <td>Umenona</td>\n",
       "      <td>Odd</td>\n",
       "    </tr>\n",
       "    <tr>\n",
       "      <th>2</th>\n",
       "      <td>21</td>\n",
       "      <td>9261</td>\n",
       "      <td>441</td>\n",
       "      <td>Umenona</td>\n",
       "      <td>Odd</td>\n",
       "    </tr>\n",
       "    <tr>\n",
       "      <th>3</th>\n",
       "      <td>44</td>\n",
       "      <td>85184</td>\n",
       "      <td>1936</td>\n",
       "      <td>Umenona</td>\n",
       "      <td>Even</td>\n",
       "    </tr>\n",
       "    <tr>\n",
       "      <th>4</th>\n",
       "      <td>94</td>\n",
       "      <td>830584</td>\n",
       "      <td>8836</td>\n",
       "      <td>Umenona</td>\n",
       "      <td>Even</td>\n",
       "    </tr>\n",
       "    <tr>\n",
       "      <th>5</th>\n",
       "      <td>3</td>\n",
       "      <td>27</td>\n",
       "      <td>9</td>\n",
       "      <td>Umenona</td>\n",
       "      <td>Odd</td>\n",
       "    </tr>\n",
       "    <tr>\n",
       "      <th>6</th>\n",
       "      <td>65</td>\n",
       "      <td>274625</td>\n",
       "      <td>4225</td>\n",
       "      <td>Umenona</td>\n",
       "      <td>Odd</td>\n",
       "    </tr>\n",
       "    <tr>\n",
       "      <th>7</th>\n",
       "      <td>58</td>\n",
       "      <td>195112</td>\n",
       "      <td>3364</td>\n",
       "      <td>Umenona</td>\n",
       "      <td>Even</td>\n",
       "    </tr>\n",
       "    <tr>\n",
       "      <th>8</th>\n",
       "      <td>37</td>\n",
       "      <td>50653</td>\n",
       "      <td>1369</td>\n",
       "      <td>Umenona</td>\n",
       "      <td>Odd</td>\n",
       "    </tr>\n",
       "    <tr>\n",
       "      <th>9</th>\n",
       "      <td>1</td>\n",
       "      <td>1</td>\n",
       "      <td>1</td>\n",
       "      <td>Umenona</td>\n",
       "      <td>Odd</td>\n",
       "    </tr>\n",
       "    <tr>\n",
       "      <th>10</th>\n",
       "      <td>64</td>\n",
       "      <td>262144</td>\n",
       "      <td>4096</td>\n",
       "      <td>Umenona</td>\n",
       "      <td>Even</td>\n",
       "    </tr>\n",
       "    <tr>\n",
       "      <th>11</th>\n",
       "      <td>5</td>\n",
       "      <td>125</td>\n",
       "      <td>25</td>\n",
       "      <td>Umenona</td>\n",
       "      <td>Odd</td>\n",
       "    </tr>\n",
       "    <tr>\n",
       "      <th>12</th>\n",
       "      <td>72</td>\n",
       "      <td>373248</td>\n",
       "      <td>5184</td>\n",
       "      <td>Umenona</td>\n",
       "      <td>Even</td>\n",
       "    </tr>\n",
       "    <tr>\n",
       "      <th>13</th>\n",
       "      <td>21</td>\n",
       "      <td>9261</td>\n",
       "      <td>441</td>\n",
       "      <td>Umenona</td>\n",
       "      <td>Odd</td>\n",
       "    </tr>\n",
       "    <tr>\n",
       "      <th>14</th>\n",
       "      <td>13</td>\n",
       "      <td>2197</td>\n",
       "      <td>169</td>\n",
       "      <td>Umenona</td>\n",
       "      <td>Odd</td>\n",
       "    </tr>\n",
       "    <tr>\n",
       "      <th>15</th>\n",
       "      <td>90</td>\n",
       "      <td>729000</td>\n",
       "      <td>8100</td>\n",
       "      <td>Umenona</td>\n",
       "      <td>Even</td>\n",
       "    </tr>\n",
       "    <tr>\n",
       "      <th>16</th>\n",
       "      <td>81</td>\n",
       "      <td>531441</td>\n",
       "      <td>6561</td>\n",
       "      <td>Umenona</td>\n",
       "      <td>Odd</td>\n",
       "    </tr>\n",
       "    <tr>\n",
       "      <th>17</th>\n",
       "      <td>67</td>\n",
       "      <td>300763</td>\n",
       "      <td>4489</td>\n",
       "      <td>Umenona</td>\n",
       "      <td>Odd</td>\n",
       "    </tr>\n",
       "    <tr>\n",
       "      <th>18</th>\n",
       "      <td>12</td>\n",
       "      <td>1728</td>\n",
       "      <td>144</td>\n",
       "      <td>Umenona</td>\n",
       "      <td>Even</td>\n",
       "    </tr>\n",
       "    <tr>\n",
       "      <th>19</th>\n",
       "      <td>22</td>\n",
       "      <td>10648</td>\n",
       "      <td>484</td>\n",
       "      <td>Umenona</td>\n",
       "      <td>Even</td>\n",
       "    </tr>\n",
       "    <tr>\n",
       "      <th>20</th>\n",
       "      <td>1</td>\n",
       "      <td>1</td>\n",
       "      <td>1</td>\n",
       "      <td>Umenona</td>\n",
       "      <td>Odd</td>\n",
       "    </tr>\n",
       "    <tr>\n",
       "      <th>21</th>\n",
       "      <td>72</td>\n",
       "      <td>373248</td>\n",
       "      <td>5184</td>\n",
       "      <td>Umenona</td>\n",
       "      <td>Even</td>\n",
       "    </tr>\n",
       "    <tr>\n",
       "      <th>22</th>\n",
       "      <td>84</td>\n",
       "      <td>592704</td>\n",
       "      <td>7056</td>\n",
       "      <td>Umenona</td>\n",
       "      <td>Even</td>\n",
       "    </tr>\n",
       "    <tr>\n",
       "      <th>23</th>\n",
       "      <td>90</td>\n",
       "      <td>729000</td>\n",
       "      <td>8100</td>\n",
       "      <td>Umenona</td>\n",
       "      <td>Even</td>\n",
       "    </tr>\n",
       "    <tr>\n",
       "      <th>24</th>\n",
       "      <td>86</td>\n",
       "      <td>636056</td>\n",
       "      <td>7396</td>\n",
       "      <td>Umenona</td>\n",
       "      <td>Even</td>\n",
       "    </tr>\n",
       "    <tr>\n",
       "      <th>25</th>\n",
       "      <td>73</td>\n",
       "      <td>389017</td>\n",
       "      <td>5329</td>\n",
       "      <td>Umenona</td>\n",
       "      <td>Odd</td>\n",
       "    </tr>\n",
       "    <tr>\n",
       "      <th>26</th>\n",
       "      <td>39</td>\n",
       "      <td>59319</td>\n",
       "      <td>1521</td>\n",
       "      <td>Umenona</td>\n",
       "      <td>Odd</td>\n",
       "    </tr>\n",
       "    <tr>\n",
       "      <th>27</th>\n",
       "      <td>47</td>\n",
       "      <td>103823</td>\n",
       "      <td>2209</td>\n",
       "      <td>Umenona</td>\n",
       "      <td>Odd</td>\n",
       "    </tr>\n",
       "    <tr>\n",
       "      <th>28</th>\n",
       "      <td>33</td>\n",
       "      <td>35937</td>\n",
       "      <td>1089</td>\n",
       "      <td>Umenona</td>\n",
       "      <td>Odd</td>\n",
       "    </tr>\n",
       "    <tr>\n",
       "      <th>29</th>\n",
       "      <td>30</td>\n",
       "      <td>27000</td>\n",
       "      <td>900</td>\n",
       "      <td>Umenona</td>\n",
       "      <td>Even</td>\n",
       "    </tr>\n",
       "    <tr>\n",
       "      <th>30</th>\n",
       "      <td>92</td>\n",
       "      <td>778688</td>\n",
       "      <td>8464</td>\n",
       "      <td>Umenona</td>\n",
       "      <td>Even</td>\n",
       "    </tr>\n",
       "    <tr>\n",
       "      <th>31</th>\n",
       "      <td>71</td>\n",
       "      <td>357911</td>\n",
       "      <td>5041</td>\n",
       "      <td>Umenona</td>\n",
       "      <td>Odd</td>\n",
       "    </tr>\n",
       "    <tr>\n",
       "      <th>32</th>\n",
       "      <td>25</td>\n",
       "      <td>15625</td>\n",
       "      <td>625</td>\n",
       "      <td>Umenona</td>\n",
       "      <td>Odd</td>\n",
       "    </tr>\n",
       "    <tr>\n",
       "      <th>33</th>\n",
       "      <td>20</td>\n",
       "      <td>8000</td>\n",
       "      <td>400</td>\n",
       "      <td>Umenona</td>\n",
       "      <td>Even</td>\n",
       "    </tr>\n",
       "    <tr>\n",
       "      <th>34</th>\n",
       "      <td>69</td>\n",
       "      <td>328509</td>\n",
       "      <td>4761</td>\n",
       "      <td>Umenona</td>\n",
       "      <td>Odd</td>\n",
       "    </tr>\n",
       "  </tbody>\n",
       "</table>\n",
       "</div>"
      ],
      "text/plain": [
       "    numbers.name  cubed_numbers.name  squared_numbers.name bmi_series.name  \\\n",
       "0              3                  27                     9         Umenona   \n",
       "1             99              970299                  9801         Umenona   \n",
       "2             21                9261                   441         Umenona   \n",
       "3             44               85184                  1936         Umenona   \n",
       "4             94              830584                  8836         Umenona   \n",
       "5              3                  27                     9         Umenona   \n",
       "6             65              274625                  4225         Umenona   \n",
       "7             58              195112                  3364         Umenona   \n",
       "8             37               50653                  1369         Umenona   \n",
       "9              1                   1                     1         Umenona   \n",
       "10            64              262144                  4096         Umenona   \n",
       "11             5                 125                    25         Umenona   \n",
       "12            72              373248                  5184         Umenona   \n",
       "13            21                9261                   441         Umenona   \n",
       "14            13                2197                   169         Umenona   \n",
       "15            90              729000                  8100         Umenona   \n",
       "16            81              531441                  6561         Umenona   \n",
       "17            67              300763                  4489         Umenona   \n",
       "18            12                1728                   144         Umenona   \n",
       "19            22               10648                   484         Umenona   \n",
       "20             1                   1                     1         Umenona   \n",
       "21            72              373248                  5184         Umenona   \n",
       "22            84              592704                  7056         Umenona   \n",
       "23            90              729000                  8100         Umenona   \n",
       "24            86              636056                  7396         Umenona   \n",
       "25            73              389017                  5329         Umenona   \n",
       "26            39               59319                  1521         Umenona   \n",
       "27            47              103823                  2209         Umenona   \n",
       "28            33               35937                  1089         Umenona   \n",
       "29            30               27000                   900         Umenona   \n",
       "30            92              778688                  8464         Umenona   \n",
       "31            71              357911                  5041         Umenona   \n",
       "32            25               15625                   625         Umenona   \n",
       "33            20                8000                   400         Umenona   \n",
       "34            69              328509                  4761         Umenona   \n",
       "\n",
       "   even_odd_series  \n",
       "0              Odd  \n",
       "1              Odd  \n",
       "2              Odd  \n",
       "3             Even  \n",
       "4             Even  \n",
       "5              Odd  \n",
       "6              Odd  \n",
       "7             Even  \n",
       "8              Odd  \n",
       "9              Odd  \n",
       "10            Even  \n",
       "11             Odd  \n",
       "12            Even  \n",
       "13             Odd  \n",
       "14             Odd  \n",
       "15            Even  \n",
       "16             Odd  \n",
       "17             Odd  \n",
       "18            Even  \n",
       "19            Even  \n",
       "20             Odd  \n",
       "21            Even  \n",
       "22            Even  \n",
       "23            Even  \n",
       "24            Even  \n",
       "25             Odd  \n",
       "26             Odd  \n",
       "27             Odd  \n",
       "28             Odd  \n",
       "29            Even  \n",
       "30            Even  \n",
       "31             Odd  \n",
       "32             Odd  \n",
       "33            Even  \n",
       "34             Odd  "
      ]
     },
     "execution_count": 60,
     "metadata": {},
     "output_type": "execute_result"
    }
   ],
   "source": [
    "# converting series into dataframe\n",
    "mine_df = pd.DataFrame({\n",
    "    \"numbers.name\": numbers,\n",
    "    \"cubed_numbers.name\" : cubed_numbers,\n",
    "    \"squared_numbers.name\" : squared_numbers,\n",
    "    \"bmi_series.name\" : bmi_series,\n",
    "    \"even_odd_series\": even_odd_series\n",
    "}) \n",
    "mine_df"
   ]
  },
  {
   "cell_type": "markdown",
   "metadata": {},
   "source": [
    "## Knock Yourself Out!"
   ]
  },
  {
   "cell_type": "markdown",
   "metadata": {},
   "source": [
    "You work as a real estate agent at *MoringaHome Realty*. To assist your clients in making informed decisions about property investment, you decide to analyze property data using Pandas. \n",
    "1. Generate 120 random numbers between  Ksh 4000 and Ksh 20,000 using numpy to represent the prices of the houses. \n",
    "2. Display the first and last 7 houses.\n",
    "3. Create a function that will take in the price of the house and return the category of that house, eg Suburb. The category is of your own series.\n",
    "4. Apply the function created above to the series.\n",
    "6. Apply a lambda function to increase the property prices by 10% due to the new tax laws.\n",
    "7. Apply a custom function to increase the property prices by and additional Ksh 250 for garbage. \n",
    "8. Create a new Series for each step and Finally Combine them all into a DataFrame name 'Moringa_property'."
   ]
  },
  {
   "cell_type": "code",
   "execution_count": 61,
   "metadata": {},
   "outputs": [
    {
     "data": {
      "text/plain": [
       "array([17482, 12363,  5245, 14598,  4889,  5923, 19601, 12339,  9791,\n",
       "       10699, 14358, 12704, 14819,  4291, 13790,  4073, 14061, 19529,\n",
       "        4679,  9727,  9848, 17364, 19988,  9365, 19480,  6357, 18749,\n",
       "       18005, 19245, 18422, 10578,  4864, 14920, 10113, 18789, 15368,\n",
       "        9214, 13021, 18543,  5080, 13107, 19395,  9713, 19122, 17843,\n",
       "        4143, 18683, 19150,  8161, 13436, 15146, 17799, 15481, 15864,\n",
       "       14239,  9200, 11103,  9336, 19200, 10032,  7250,  9635, 14147,\n",
       "       18574,  4514, 11074,  8386, 13749, 11672,  6592,  5828, 19745,\n",
       "       11537,  9525, 17744,  7350, 18855,  5404,  9879,  6394, 17509,\n",
       "        7740, 11478, 18449,  6442, 13686, 19371, 10341,  6485,  4421,\n",
       "       14129,  8453,  8233,  9757, 11422,  4806,  9860, 15471, 15036,\n",
       "        4550,  6104, 18836,  5999,  5307, 12927, 15773,  9560, 19324,\n",
       "       10816,  6085,  6626, 13298, 15301, 10639, 17653, 13002,  9732,\n",
       "       13712, 14304, 10754])"
      ]
     },
     "execution_count": 61,
     "metadata": {},
     "output_type": "execute_result"
    }
   ],
   "source": [
    "#Generating random Price \n",
    "random_numbers = np.random.randint(4000, 20000, size=120)\n",
    "random_numbers"
   ]
  },
  {
   "cell_type": "code",
   "execution_count": 62,
   "metadata": {},
   "outputs": [
    {
     "data": {
      "text/plain": [
       "0      17482\n",
       "1      12363\n",
       "2       5245\n",
       "3      14598\n",
       "4       4889\n",
       "       ...  \n",
       "115    13002\n",
       "116     9732\n",
       "117    13712\n",
       "118    14304\n",
       "119    10754\n",
       "Name: Bei ya Manyumba, Length: 120, dtype: int32"
      ]
     },
     "execution_count": 62,
     "metadata": {},
     "output_type": "execute_result"
    }
   ],
   "source": [
    "# creating a series\n",
    "prices = pd.Series(random_numbers, name= \"Bei ya Manyumba\")\n",
    "prices"
   ]
  },
  {
   "cell_type": "code",
   "execution_count": 63,
   "metadata": {},
   "outputs": [
    {
     "data": {
      "text/plain": [
       "0    17482\n",
       "1    12363\n",
       "2     5245\n",
       "3    14598\n",
       "4     4889\n",
       "5     5923\n",
       "6    19601\n",
       "Name: Bei ya Manyumba, dtype: int32"
      ]
     },
     "execution_count": 63,
     "metadata": {},
     "output_type": "execute_result"
    }
   ],
   "source": [
    "#Display the first  7 houses\n",
    "prices.head(7)\n",
    "\n"
   ]
  },
  {
   "cell_type": "code",
   "execution_count": 64,
   "metadata": {},
   "outputs": [
    {
     "data": {
      "text/plain": [
       "113    10639\n",
       "114    17653\n",
       "115    13002\n",
       "116     9732\n",
       "117    13712\n",
       "118    14304\n",
       "119    10754\n",
       "Name: Bei ya Manyumba, dtype: int32"
      ]
     },
     "execution_count": 64,
     "metadata": {},
     "output_type": "execute_result"
    }
   ],
   "source": [
    "#Display the last 7 houses\n",
    "prices.tail(7)"
   ]
  },
  {
   "cell_type": "code",
   "execution_count": 65,
   "metadata": {},
   "outputs": [
    {
     "data": {
      "text/plain": [
       "'Boma Yetu'"
      ]
     },
     "execution_count": 65,
     "metadata": {},
     "output_type": "execute_result"
    }
   ],
   "source": [
    "#Create a function that will take in the price of the house and return the category of that house\n",
    "def price_value(x):\n",
    "\n",
    "    if x >=18000:\n",
    "        return \"No Boma Yetu\"\n",
    "    \n",
    "    elif x >15000 and x <18000:\n",
    "        return \"Boma Yetu\"\n",
    "    \n",
    "    else:\n",
    "         return \"Civil Servant Quarter\"\n",
    "    \n",
    "price_value(17999)"
   ]
  },
  {
   "cell_type": "code",
   "execution_count": 66,
   "metadata": {},
   "outputs": [
    {
     "data": {
      "text/plain": [
       "0                 Boma Yetu\n",
       "1     Civil Servant Quarter\n",
       "2     Civil Servant Quarter\n",
       "3     Civil Servant Quarter\n",
       "4     Civil Servant Quarter\n",
       "5     Civil Servant Quarter\n",
       "6              No Boma Yetu\n",
       "7     Civil Servant Quarter\n",
       "8     Civil Servant Quarter\n",
       "9     Civil Servant Quarter\n",
       "10    Civil Servant Quarter\n",
       "11    Civil Servant Quarter\n",
       "Name: HouseCategories, dtype: object"
      ]
     },
     "execution_count": 66,
     "metadata": {},
     "output_type": "execute_result"
    }
   ],
   "source": [
    "# Creating the function series\n",
    "price_series = prices.map(price_value)\n",
    "price_series.rename(\"HouseCategories\", inplace=True)\n",
    "price_series.head(12)"
   ]
  },
  {
   "cell_type": "code",
   "execution_count": 67,
   "metadata": {},
   "outputs": [
    {
     "data": {
      "text/plain": [
       "114                Boma Yetu\n",
       "115    Civil Servant Quarter\n",
       "116    Civil Servant Quarter\n",
       "117    Civil Servant Quarter\n",
       "118    Civil Servant Quarter\n",
       "119    Civil Servant Quarter\n",
       "Name: HouseCategories, dtype: object"
      ]
     },
     "execution_count": 67,
     "metadata": {},
     "output_type": "execute_result"
    }
   ],
   "source": [
    "price_series.tail(6)"
   ]
  },
  {
   "cell_type": "code",
   "execution_count": 68,
   "metadata": {},
   "outputs": [
    {
     "data": {
      "text/plain": [
       "0       3.3\n",
       "1     108.9\n",
       "2      23.1\n",
       "3      48.4\n",
       "4     103.4\n",
       "5       3.3\n",
       "6      71.5\n",
       "7      63.8\n",
       "8      40.7\n",
       "9       1.1\n",
       "10     70.4\n",
       "11      5.5\n",
       "12     79.2\n",
       "13     23.1\n",
       "14     14.3\n",
       "15     99.0\n",
       "16     89.1\n",
       "17     73.7\n",
       "18     13.2\n",
       "19     24.2\n",
       "20      1.1\n",
       "21     79.2\n",
       "22     92.4\n",
       "23     99.0\n",
       "24     94.6\n",
       "25     80.3\n",
       "26     42.9\n",
       "27     51.7\n",
       "28     36.3\n",
       "29     33.0\n",
       "30    101.2\n",
       "31     78.1\n",
       "32     27.5\n",
       "33     22.0\n",
       "34     75.9\n",
       "Name: Evaluation Team, dtype: float64"
      ]
     },
     "execution_count": 68,
     "metadata": {},
     "output_type": "execute_result"
    }
   ],
   "source": [
    "\n",
    "price_series2 = numbers.apply(lambda x: x * 1.10)\n",
    "price_series2\n"
   ]
  },
  {
   "cell_type": "code",
   "execution_count": 69,
   "metadata": {},
   "outputs": [
    {
     "data": {
      "text/plain": [
       "0    Civil Servant Quarter\n",
       "1    Civil Servant Quarter\n",
       "2    Civil Servant Quarter\n",
       "3    Civil Servant Quarter\n",
       "4    Civil Servant Quarter\n",
       "Name: HouseCategories, dtype: object"
      ]
     },
     "execution_count": 69,
     "metadata": {},
     "output_type": "execute_result"
    }
   ],
   "source": [
    "price_categories = price_series2.map(price_value)\n",
    "price_categories.rename(\"HouseCategories\", inplace=True)\n",
    "price_categories.head(5)"
   ]
  },
  {
   "cell_type": "code",
   "execution_count": 70,
   "metadata": {},
   "outputs": [],
   "source": [
    "# Apply a custom function to increase the property prices by and additional Ksh 250 for garbage. \n",
    "def garbage_fee(price):\n",
    "    return price + 250"
   ]
  },
  {
   "cell_type": "code",
   "execution_count": 71,
   "metadata": {},
   "outputs": [
    {
     "data": {
      "text/plain": [
       "0       3.3\n",
       "1     108.9\n",
       "2      23.1\n",
       "3      48.4\n",
       "4     103.4\n",
       "5       3.3\n",
       "6      71.5\n",
       "7      63.8\n",
       "8      40.7\n",
       "9       1.1\n",
       "10     70.4\n",
       "11      5.5\n",
       "12     79.2\n",
       "13     23.1\n",
       "14     14.3\n",
       "15     99.0\n",
       "16     89.1\n",
       "17     73.7\n",
       "18     13.2\n",
       "19     24.2\n",
       "20      1.1\n",
       "21     79.2\n",
       "22     92.4\n",
       "23     99.0\n",
       "24     94.6\n",
       "25     80.3\n",
       "26     42.9\n",
       "27     51.7\n",
       "28     36.3\n",
       "29     33.0\n",
       "30    101.2\n",
       "31     78.1\n",
       "32     27.5\n",
       "33     22.0\n",
       "34     75.9\n",
       "Name: Evaluation Team, dtype: float64"
      ]
     },
     "execution_count": 71,
     "metadata": {},
     "output_type": "execute_result"
    }
   ],
   "source": [
    "price_series2"
   ]
  },
  {
   "cell_type": "code",
   "execution_count": 72,
   "metadata": {},
   "outputs": [],
   "source": [
    "updated_prices = price_series2.apply(garbage_fee)\n"
   ]
  },
  {
   "cell_type": "code",
   "execution_count": 73,
   "metadata": {},
   "outputs": [
    {
     "data": {
      "text/plain": [
       "0     253.3\n",
       "1     358.9\n",
       "2     273.1\n",
       "3     298.4\n",
       "4     353.4\n",
       "5     253.3\n",
       "6     321.5\n",
       "7     313.8\n",
       "8     290.7\n",
       "9     251.1\n",
       "10    320.4\n",
       "11    255.5\n",
       "12    329.2\n",
       "13    273.1\n",
       "14    264.3\n",
       "15    349.0\n",
       "16    339.1\n",
       "17    323.7\n",
       "18    263.2\n",
       "19    274.2\n",
       "20    251.1\n",
       "21    329.2\n",
       "22    342.4\n",
       "23    349.0\n",
       "24    344.6\n",
       "25    330.3\n",
       "26    292.9\n",
       "27    301.7\n",
       "28    286.3\n",
       "29    283.0\n",
       "30    351.2\n",
       "31    328.1\n",
       "32    277.5\n",
       "33    272.0\n",
       "34    325.9\n",
       "Name: Evaluation Team, dtype: float64"
      ]
     },
     "execution_count": 73,
     "metadata": {},
     "output_type": "execute_result"
    }
   ],
   "source": [
    "updated_prices"
   ]
  },
  {
   "cell_type": "code",
   "execution_count": 74,
   "metadata": {},
   "outputs": [],
   "source": [
    "New_rates = {\n",
    "    'prices': prices,\n",
    "    'price_series': price_series,\n",
    "    'house_levy %' : 10,\n",
    "    'price_series2': price_series2,\n",
    "    'garbage_fee' : 250,\n",
    "    'updated_prices': updated_prices\n",
    "}\n"
   ]
  },
  {
   "cell_type": "code",
   "execution_count": 78,
   "metadata": {},
   "outputs": [
    {
     "data": {
      "text/html": [
       "<div>\n",
       "<style scoped>\n",
       "    .dataframe tbody tr th:only-of-type {\n",
       "        vertical-align: middle;\n",
       "    }\n",
       "\n",
       "    .dataframe tbody tr th {\n",
       "        vertical-align: top;\n",
       "    }\n",
       "\n",
       "    .dataframe thead th {\n",
       "        text-align: right;\n",
       "    }\n",
       "</style>\n",
       "<table border=\"1\" class=\"dataframe\">\n",
       "  <thead>\n",
       "    <tr style=\"text-align: right;\">\n",
       "      <th></th>\n",
       "      <th>prices</th>\n",
       "      <th>price_series</th>\n",
       "      <th>house_levy %</th>\n",
       "      <th>price_series2</th>\n",
       "      <th>garbage_fee</th>\n",
       "      <th>updated_prices</th>\n",
       "    </tr>\n",
       "  </thead>\n",
       "  <tbody>\n",
       "    <tr>\n",
       "      <th>0</th>\n",
       "      <td>17482</td>\n",
       "      <td>Boma Yetu</td>\n",
       "      <td>10</td>\n",
       "      <td>3.3</td>\n",
       "      <td>250</td>\n",
       "      <td>253.3</td>\n",
       "    </tr>\n",
       "    <tr>\n",
       "      <th>1</th>\n",
       "      <td>12363</td>\n",
       "      <td>Civil Servant Quarter</td>\n",
       "      <td>10</td>\n",
       "      <td>108.9</td>\n",
       "      <td>250</td>\n",
       "      <td>358.9</td>\n",
       "    </tr>\n",
       "    <tr>\n",
       "      <th>2</th>\n",
       "      <td>5245</td>\n",
       "      <td>Civil Servant Quarter</td>\n",
       "      <td>10</td>\n",
       "      <td>23.1</td>\n",
       "      <td>250</td>\n",
       "      <td>273.1</td>\n",
       "    </tr>\n",
       "    <tr>\n",
       "      <th>3</th>\n",
       "      <td>14598</td>\n",
       "      <td>Civil Servant Quarter</td>\n",
       "      <td>10</td>\n",
       "      <td>48.4</td>\n",
       "      <td>250</td>\n",
       "      <td>298.4</td>\n",
       "    </tr>\n",
       "    <tr>\n",
       "      <th>4</th>\n",
       "      <td>4889</td>\n",
       "      <td>Civil Servant Quarter</td>\n",
       "      <td>10</td>\n",
       "      <td>103.4</td>\n",
       "      <td>250</td>\n",
       "      <td>353.4</td>\n",
       "    </tr>\n",
       "    <tr>\n",
       "      <th>...</th>\n",
       "      <td>...</td>\n",
       "      <td>...</td>\n",
       "      <td>...</td>\n",
       "      <td>...</td>\n",
       "      <td>...</td>\n",
       "      <td>...</td>\n",
       "    </tr>\n",
       "    <tr>\n",
       "      <th>115</th>\n",
       "      <td>13002</td>\n",
       "      <td>Civil Servant Quarter</td>\n",
       "      <td>10</td>\n",
       "      <td>NaN</td>\n",
       "      <td>250</td>\n",
       "      <td>NaN</td>\n",
       "    </tr>\n",
       "    <tr>\n",
       "      <th>116</th>\n",
       "      <td>9732</td>\n",
       "      <td>Civil Servant Quarter</td>\n",
       "      <td>10</td>\n",
       "      <td>NaN</td>\n",
       "      <td>250</td>\n",
       "      <td>NaN</td>\n",
       "    </tr>\n",
       "    <tr>\n",
       "      <th>117</th>\n",
       "      <td>13712</td>\n",
       "      <td>Civil Servant Quarter</td>\n",
       "      <td>10</td>\n",
       "      <td>NaN</td>\n",
       "      <td>250</td>\n",
       "      <td>NaN</td>\n",
       "    </tr>\n",
       "    <tr>\n",
       "      <th>118</th>\n",
       "      <td>14304</td>\n",
       "      <td>Civil Servant Quarter</td>\n",
       "      <td>10</td>\n",
       "      <td>NaN</td>\n",
       "      <td>250</td>\n",
       "      <td>NaN</td>\n",
       "    </tr>\n",
       "    <tr>\n",
       "      <th>119</th>\n",
       "      <td>10754</td>\n",
       "      <td>Civil Servant Quarter</td>\n",
       "      <td>10</td>\n",
       "      <td>NaN</td>\n",
       "      <td>250</td>\n",
       "      <td>NaN</td>\n",
       "    </tr>\n",
       "  </tbody>\n",
       "</table>\n",
       "<p>120 rows × 6 columns</p>\n",
       "</div>"
      ],
      "text/plain": [
       "     prices           price_series  house_levy %  price_series2  garbage_fee  \\\n",
       "0     17482              Boma Yetu            10            3.3          250   \n",
       "1     12363  Civil Servant Quarter            10          108.9          250   \n",
       "2      5245  Civil Servant Quarter            10           23.1          250   \n",
       "3     14598  Civil Servant Quarter            10           48.4          250   \n",
       "4      4889  Civil Servant Quarter            10          103.4          250   \n",
       "..      ...                    ...           ...            ...          ...   \n",
       "115   13002  Civil Servant Quarter            10            NaN          250   \n",
       "116    9732  Civil Servant Quarter            10            NaN          250   \n",
       "117   13712  Civil Servant Quarter            10            NaN          250   \n",
       "118   14304  Civil Servant Quarter            10            NaN          250   \n",
       "119   10754  Civil Servant Quarter            10            NaN          250   \n",
       "\n",
       "     updated_prices  \n",
       "0             253.3  \n",
       "1             358.9  \n",
       "2             273.1  \n",
       "3             298.4  \n",
       "4             353.4  \n",
       "..              ...  \n",
       "115             NaN  \n",
       "116             NaN  \n",
       "117             NaN  \n",
       "118             NaN  \n",
       "119             NaN  \n",
       "\n",
       "[120 rows x 6 columns]"
      ]
     },
     "metadata": {},
     "output_type": "display_data"
    }
   ],
   "source": [
    "#Create a new Series for each step and Finally Combine them all into a DataFrame name 'Moringa_property'\n",
    "Moringa_protery = pd.DataFrame(New_rates)\n",
    "display(Moringa_protery)"
   ]
  }
 ],
 "metadata": {
  "kernelspec": {
   "display_name": "Python 3",
   "language": "python",
   "name": "python3"
  },
  "language_info": {
   "codemirror_mode": {
    "name": "ipython",
    "version": 3
   },
   "file_extension": ".py",
   "mimetype": "text/x-python",
   "name": "python",
   "nbconvert_exporter": "python",
   "pygments_lexer": "ipython3",
   "version": "3.11.5"
  },
  "orig_nbformat": 4
 },
 "nbformat": 4,
 "nbformat_minor": 2
}
